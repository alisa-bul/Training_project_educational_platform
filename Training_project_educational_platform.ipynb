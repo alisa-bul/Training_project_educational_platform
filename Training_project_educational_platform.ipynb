{
 "cells": [
  {
   "cell_type": "code",
   "execution_count": 1,
   "metadata": {},
   "outputs": [],
   "source": [
    "import warnings\n",
    "warnings.filterwarnings('ignore')\n",
    "\n",
    "import pandas as pd\n",
    "import numpy as np\n",
    "import matplotlib.pyplot as plt\n",
    "import seaborn as sns\n",
    "import scipy.stats as st\n",
    "import pingouin as pg\n",
    "\n",
    "sns.set(style='white')"
   ]
  },
  {
   "cell_type": "markdown",
   "metadata": {},
   "source": [
    "### Задание 1. A/B–тестирование"
   ]
  },
  {
   "cell_type": "markdown",
   "metadata": {},
   "source": [
    "*Условие*. Одной из основных задач аналитика в нашей команде является корректное проведение экспериментов. Для этого мы применяем метод A/B–тестирования. В ходе тестирования одной гипотезы целевой группе была предложена новая механика оплаты услуг на сайте, у контрольной группы оставалась базовая механика. В качестве задания вам необходимо проанализировать итоги эксперимента и сделать вывод, стоит ли запускать новую механику оплаты на всех пользователей.\n",
    "\n",
    "*Входные данные*. В качестве входных данных вы имеете 4 csv-файла:\n",
    "\n",
    "- groups.csv – файл с информацией о принадлежности пользователя к контрольной или экспериментальной группе (А – контроль, B – целевая группа);\n",
    "- groups_add.csv – дополнительный файл с пользователями, который вам прислали спустя 2 дня после передачи данных;\n",
    "- active_studs.csv – файл с информацией о пользователях, которые зашли на платформу в дни проведения эксперимента;\n",
    "- checks.csv – файл с информацией об оплатах пользователей в дни проведения эксперимента.\n",
    "\n",
    "*Вопросы*. Предлагаем вам ответить на следующие вопросы:\n",
    "\n",
    "- На какие метрики вы смотрите в ходе анализа и почему?\n",
    "- Имеются ли различия в показателях и с чем они могут быть связаны?\n",
    "- Являются ли эти различия статистически значимыми?\n",
    "- Стоит ли запускать новую механику на всех пользователей?"
   ]
  },
  {
   "cell_type": "code",
   "execution_count": 2,
   "metadata": {},
   "outputs": [],
   "source": [
    "groups = pd.read_csv('groups.csv', sep=';')\n",
    "group_add = pd.read_csv('group_add.csv')\n",
    "active_studs = pd.read_csv('active_studs.csv')\n",
    "checks = pd.read_csv('checks.csv', sep=';')"
   ]
  },
  {
   "cell_type": "markdown",
   "metadata": {},
   "source": [
    "Проведем **разведочный** анализ данных."
   ]
  },
  {
   "cell_type": "code",
   "execution_count": 3,
   "metadata": {},
   "outputs": [
    {
     "data": {
      "text/html": [
       "<div>\n",
       "<style scoped>\n",
       "    .dataframe tbody tr th:only-of-type {\n",
       "        vertical-align: middle;\n",
       "    }\n",
       "\n",
       "    .dataframe tbody tr th {\n",
       "        vertical-align: top;\n",
       "    }\n",
       "\n",
       "    .dataframe thead th {\n",
       "        text-align: right;\n",
       "    }\n",
       "</style>\n",
       "<table border=\"1\" class=\"dataframe\">\n",
       "  <thead>\n",
       "    <tr style=\"text-align: right;\">\n",
       "      <th></th>\n",
       "      <th>id</th>\n",
       "      <th>grp</th>\n",
       "    </tr>\n",
       "  </thead>\n",
       "  <tbody>\n",
       "    <tr>\n",
       "      <th>0</th>\n",
       "      <td>1489</td>\n",
       "      <td>B</td>\n",
       "    </tr>\n",
       "    <tr>\n",
       "      <th>1</th>\n",
       "      <td>1627</td>\n",
       "      <td>A</td>\n",
       "    </tr>\n",
       "    <tr>\n",
       "      <th>2</th>\n",
       "      <td>1768</td>\n",
       "      <td>B</td>\n",
       "    </tr>\n",
       "    <tr>\n",
       "      <th>3</th>\n",
       "      <td>1783</td>\n",
       "      <td>B</td>\n",
       "    </tr>\n",
       "    <tr>\n",
       "      <th>4</th>\n",
       "      <td>1794</td>\n",
       "      <td>A</td>\n",
       "    </tr>\n",
       "    <tr>\n",
       "      <th>5</th>\n",
       "      <td>1803</td>\n",
       "      <td>B</td>\n",
       "    </tr>\n",
       "    <tr>\n",
       "      <th>6</th>\n",
       "      <td>1805</td>\n",
       "      <td>B</td>\n",
       "    </tr>\n",
       "    <tr>\n",
       "      <th>7</th>\n",
       "      <td>2067</td>\n",
       "      <td>A</td>\n",
       "    </tr>\n",
       "    <tr>\n",
       "      <th>8</th>\n",
       "      <td>2078</td>\n",
       "      <td>A</td>\n",
       "    </tr>\n",
       "    <tr>\n",
       "      <th>9</th>\n",
       "      <td>2080</td>\n",
       "      <td>B</td>\n",
       "    </tr>\n",
       "  </tbody>\n",
       "</table>\n",
       "</div>"
      ],
      "text/plain": [
       "     id grp\n",
       "0  1489   B\n",
       "1  1627   A\n",
       "2  1768   B\n",
       "3  1783   B\n",
       "4  1794   A\n",
       "5  1803   B\n",
       "6  1805   B\n",
       "7  2067   A\n",
       "8  2078   A\n",
       "9  2080   B"
      ]
     },
     "execution_count": 3,
     "metadata": {},
     "output_type": "execute_result"
    }
   ],
   "source": [
    "# Изучим содержимое датафреймов\n",
    "groups.head(10)"
   ]
  },
  {
   "cell_type": "code",
   "execution_count": 4,
   "metadata": {},
   "outputs": [
    {
     "name": "stdout",
     "output_type": "stream",
     "text": [
      "Количество строк в датафрейме groups = 74484\n",
      "Количество уникальных пользователей в датафрейме groups = 74484\n"
     ]
    }
   ],
   "source": [
    "print(f'Количество строк в датафрейме groups = {groups.shape[0]}')\n",
    "print(f'Количество уникальных пользователей в датафрейме groups = {groups.id.nunique()}')"
   ]
  },
  {
   "cell_type": "markdown",
   "metadata": {},
   "source": [
    "Каждая строка в датафрейме groups соответствует уникальному пользователю образовательной платформы."
   ]
  },
  {
   "cell_type": "code",
   "execution_count": 5,
   "metadata": {
    "scrolled": true
   },
   "outputs": [
    {
     "name": "stdout",
     "output_type": "stream",
     "text": [
      "Количество пользователей в контрольной группе(А) равно 14671 (19.7% от общего количества)\n",
      "Количество пользователей в целевой группе(B) равно 59813 (80.3% от общего количества)\n"
     ]
    }
   ],
   "source": [
    "quantity = groups.groupby('grp').id.count()\n",
    "print(f'Количество пользователей в контрольной группе(А) равно {quantity.iloc[0]} \\\n",
    "({round((quantity.iloc[0] / groups.shape[0] * 100), 1)}% от общего количества)')\n",
    "print(f'Количество пользователей в целевой группе(B) равно {quantity.iloc[1]} \\\n",
    "({round((quantity.iloc[1] / groups.shape[0] * 100), 1)}% от общего количества)')"
   ]
  },
  {
   "cell_type": "markdown",
   "metadata": {},
   "source": [
    "Заметим, что количество пользователей в целевой группе (B) сильно больше, чем в контрольной (А). Репрезентативность выборок мы не можем оценить иначе, так как нет для этого данных. Для получения достоверных результатов эксперимента следовало бы пересмотреть систему сплитования, чтобы размер выборок был сопоставимым."
   ]
  },
  {
   "cell_type": "code",
   "execution_count": 6,
   "metadata": {},
   "outputs": [
    {
     "data": {
      "text/html": [
       "<div>\n",
       "<style scoped>\n",
       "    .dataframe tbody tr th:only-of-type {\n",
       "        vertical-align: middle;\n",
       "    }\n",
       "\n",
       "    .dataframe tbody tr th {\n",
       "        vertical-align: top;\n",
       "    }\n",
       "\n",
       "    .dataframe thead th {\n",
       "        text-align: right;\n",
       "    }\n",
       "</style>\n",
       "<table border=\"1\" class=\"dataframe\">\n",
       "  <thead>\n",
       "    <tr style=\"text-align: right;\">\n",
       "      <th></th>\n",
       "      <th>id</th>\n",
       "      <th>grp</th>\n",
       "    </tr>\n",
       "  </thead>\n",
       "  <tbody>\n",
       "    <tr>\n",
       "      <th>0</th>\n",
       "      <td>5694584</td>\n",
       "      <td>B</td>\n",
       "    </tr>\n",
       "    <tr>\n",
       "      <th>1</th>\n",
       "      <td>5694830</td>\n",
       "      <td>B</td>\n",
       "    </tr>\n",
       "    <tr>\n",
       "      <th>2</th>\n",
       "      <td>5695057</td>\n",
       "      <td>B</td>\n",
       "    </tr>\n",
       "    <tr>\n",
       "      <th>3</th>\n",
       "      <td>5698872</td>\n",
       "      <td>B</td>\n",
       "    </tr>\n",
       "    <tr>\n",
       "      <th>4</th>\n",
       "      <td>5699067</td>\n",
       "      <td>B</td>\n",
       "    </tr>\n",
       "    <tr>\n",
       "      <th>5</th>\n",
       "      <td>5699132</td>\n",
       "      <td>B</td>\n",
       "    </tr>\n",
       "    <tr>\n",
       "      <th>6</th>\n",
       "      <td>5699712</td>\n",
       "      <td>B</td>\n",
       "    </tr>\n",
       "    <tr>\n",
       "      <th>7</th>\n",
       "      <td>5700613</td>\n",
       "      <td>B</td>\n",
       "    </tr>\n",
       "    <tr>\n",
       "      <th>8</th>\n",
       "      <td>5700771</td>\n",
       "      <td>B</td>\n",
       "    </tr>\n",
       "    <tr>\n",
       "      <th>9</th>\n",
       "      <td>5701056</td>\n",
       "      <td>B</td>\n",
       "    </tr>\n",
       "  </tbody>\n",
       "</table>\n",
       "</div>"
      ],
      "text/plain": [
       "        id grp\n",
       "0  5694584   B\n",
       "1  5694830   B\n",
       "2  5695057   B\n",
       "3  5698872   B\n",
       "4  5699067   B\n",
       "5  5699132   B\n",
       "6  5699712   B\n",
       "7  5700613   B\n",
       "8  5700771   B\n",
       "9  5701056   B"
      ]
     },
     "execution_count": 6,
     "metadata": {},
     "output_type": "execute_result"
    }
   ],
   "source": [
    "# Изучим файл, который нам прислали спустя 2 дня после начала эксперимента\n",
    "group_add.head(10)"
   ]
  },
  {
   "cell_type": "code",
   "execution_count": 7,
   "metadata": {
    "scrolled": true
   },
   "outputs": [
    {
     "name": "stdout",
     "output_type": "stream",
     "text": [
      "Количество строк в датафрейме group_add = 92\n",
      "Количество уникальных пользователей в датафрейме group_add = 92\n"
     ]
    }
   ],
   "source": [
    "print(f'Количество строк в датафрейме group_add = {group_add.shape[0]}')\n",
    "print(f'Количество уникальных пользователей в датафрейме group_add = {group_add.id.nunique()}')"
   ]
  },
  {
   "cell_type": "code",
   "execution_count": 8,
   "metadata": {},
   "outputs": [
    {
     "data": {
      "text/plain": [
       "grp\n",
       "A    22\n",
       "B    70\n",
       "Name: id, dtype: int64"
      ]
     },
     "execution_count": 8,
     "metadata": {},
     "output_type": "execute_result"
    }
   ],
   "source": [
    "group_add.groupby('grp').id.count()"
   ]
  },
  {
   "cell_type": "markdown",
   "metadata": {},
   "source": [
    "Заметим, что id пользователей в датафреймах groups и group_add по умолчанию отсортированы в порядке возрастания."
   ]
  },
  {
   "cell_type": "code",
   "execution_count": 9,
   "metadata": {},
   "outputs": [
    {
     "data": {
      "text/html": [
       "<div>\n",
       "<style scoped>\n",
       "    .dataframe tbody tr th:only-of-type {\n",
       "        vertical-align: middle;\n",
       "    }\n",
       "\n",
       "    .dataframe tbody tr th {\n",
       "        vertical-align: top;\n",
       "    }\n",
       "\n",
       "    .dataframe thead th {\n",
       "        text-align: right;\n",
       "    }\n",
       "</style>\n",
       "<table border=\"1\" class=\"dataframe\">\n",
       "  <thead>\n",
       "    <tr style=\"text-align: right;\">\n",
       "      <th></th>\n",
       "      <th>id</th>\n",
       "      <th>grp</th>\n",
       "    </tr>\n",
       "  </thead>\n",
       "  <tbody>\n",
       "    <tr>\n",
       "      <th>74479</th>\n",
       "      <td>5692459</td>\n",
       "      <td>B</td>\n",
       "    </tr>\n",
       "    <tr>\n",
       "      <th>74480</th>\n",
       "      <td>5692572</td>\n",
       "      <td>B</td>\n",
       "    </tr>\n",
       "    <tr>\n",
       "      <th>74481</th>\n",
       "      <td>5692865</td>\n",
       "      <td>B</td>\n",
       "    </tr>\n",
       "    <tr>\n",
       "      <th>74482</th>\n",
       "      <td>5693667</td>\n",
       "      <td>B</td>\n",
       "    </tr>\n",
       "    <tr>\n",
       "      <th>74483</th>\n",
       "      <td>5694419</td>\n",
       "      <td>B</td>\n",
       "    </tr>\n",
       "  </tbody>\n",
       "</table>\n",
       "</div>"
      ],
      "text/plain": [
       "            id grp\n",
       "74479  5692459   B\n",
       "74480  5692572   B\n",
       "74481  5692865   B\n",
       "74482  5693667   B\n",
       "74483  5694419   B"
      ]
     },
     "execution_count": 9,
     "metadata": {},
     "output_type": "execute_result"
    }
   ],
   "source": [
    "groups.tail()"
   ]
  },
  {
   "cell_type": "code",
   "execution_count": 10,
   "metadata": {},
   "outputs": [
    {
     "data": {
      "text/plain": [
       "5694419"
      ]
     },
     "execution_count": 10,
     "metadata": {},
     "output_type": "execute_result"
    }
   ],
   "source": [
    "groups.id.max()"
   ]
  },
  {
   "cell_type": "code",
   "execution_count": 11,
   "metadata": {},
   "outputs": [
    {
     "data": {
      "text/plain": [
       "5694584"
      ]
     },
     "execution_count": 11,
     "metadata": {},
     "output_type": "execute_result"
    }
   ],
   "source": [
    "group_add.id.min()"
   ]
  },
  {
   "cell_type": "markdown",
   "metadata": {},
   "source": [
    "Датафрейм groups заканчивается на id = 5694419. Датафрейм group_add начинается с id = 5694584. Складывается впечатление, что *файл group_add является продолжением groups*."
   ]
  },
  {
   "cell_type": "markdown",
   "metadata": {},
   "source": [
    "В задании 3 данного проекта требуется реализовать функцию, которая будет автоматически подгружать информацию из дополнительного файла groups_add.csv и пересчитывать метрики. Поэтому *A/B-тест будем проводить без учета этого дополнительного файла*, как если бы у нас его не было. Метрики пересчитаем позже."
   ]
  },
  {
   "cell_type": "markdown",
   "metadata": {},
   "source": [
    "Посмотрим, сколько пользователей зашли на платформу в дни проведения эксперимента."
   ]
  },
  {
   "cell_type": "code",
   "execution_count": 12,
   "metadata": {},
   "outputs": [
    {
     "data": {
      "text/html": [
       "<div>\n",
       "<style scoped>\n",
       "    .dataframe tbody tr th:only-of-type {\n",
       "        vertical-align: middle;\n",
       "    }\n",
       "\n",
       "    .dataframe tbody tr th {\n",
       "        vertical-align: top;\n",
       "    }\n",
       "\n",
       "    .dataframe thead th {\n",
       "        text-align: right;\n",
       "    }\n",
       "</style>\n",
       "<table border=\"1\" class=\"dataframe\">\n",
       "  <thead>\n",
       "    <tr style=\"text-align: right;\">\n",
       "      <th></th>\n",
       "      <th>student_id</th>\n",
       "    </tr>\n",
       "  </thead>\n",
       "  <tbody>\n",
       "    <tr>\n",
       "      <th>0</th>\n",
       "      <td>581585</td>\n",
       "    </tr>\n",
       "    <tr>\n",
       "      <th>1</th>\n",
       "      <td>5723133</td>\n",
       "    </tr>\n",
       "    <tr>\n",
       "      <th>2</th>\n",
       "      <td>3276743</td>\n",
       "    </tr>\n",
       "    <tr>\n",
       "      <th>3</th>\n",
       "      <td>4238589</td>\n",
       "    </tr>\n",
       "    <tr>\n",
       "      <th>4</th>\n",
       "      <td>4475369</td>\n",
       "    </tr>\n",
       "  </tbody>\n",
       "</table>\n",
       "</div>"
      ],
      "text/plain": [
       "   student_id\n",
       "0      581585\n",
       "1     5723133\n",
       "2     3276743\n",
       "3     4238589\n",
       "4     4475369"
      ]
     },
     "execution_count": 12,
     "metadata": {},
     "output_type": "execute_result"
    }
   ],
   "source": [
    "active_studs.head()"
   ]
  },
  {
   "cell_type": "code",
   "execution_count": 13,
   "metadata": {},
   "outputs": [
    {
     "name": "stdout",
     "output_type": "stream",
     "text": [
      "Количество строк в датафрейме active_studs = 8341\n",
      "Количество уникальных пользователей в датафрейме active_studs = 8341\n"
     ]
    }
   ],
   "source": [
    "print(f'Количество строк в датафрейме active_studs = {active_studs.shape[0]}')\n",
    "print(f'Количество уникальных пользователей в датафрейме active_studs = {active_studs.student_id.nunique()}')"
   ]
  },
  {
   "cell_type": "markdown",
   "metadata": {},
   "source": [
    "В файле active_studs хранятся данные об уникальных пользователях в дни проведения эксперимента (дубликатов нет).\\\n",
    "Соединим информацию об активных студентах с датафреймом groups."
   ]
  },
  {
   "cell_type": "code",
   "execution_count": 14,
   "metadata": {},
   "outputs": [],
   "source": [
    "groups = groups.rename(columns={'id': 'student_id'})"
   ]
  },
  {
   "cell_type": "code",
   "execution_count": 15,
   "metadata": {},
   "outputs": [],
   "source": [
    "groups_active = groups.merge(active_studs, on='student_id', how='inner')"
   ]
  },
  {
   "cell_type": "code",
   "execution_count": 16,
   "metadata": {},
   "outputs": [
    {
     "data": {
      "text/html": [
       "<div>\n",
       "<style scoped>\n",
       "    .dataframe tbody tr th:only-of-type {\n",
       "        vertical-align: middle;\n",
       "    }\n",
       "\n",
       "    .dataframe tbody tr th {\n",
       "        vertical-align: top;\n",
       "    }\n",
       "\n",
       "    .dataframe thead th {\n",
       "        text-align: right;\n",
       "    }\n",
       "</style>\n",
       "<table border=\"1\" class=\"dataframe\">\n",
       "  <thead>\n",
       "    <tr style=\"text-align: right;\">\n",
       "      <th></th>\n",
       "      <th>student_id</th>\n",
       "      <th>grp</th>\n",
       "    </tr>\n",
       "  </thead>\n",
       "  <tbody>\n",
       "    <tr>\n",
       "      <th>0</th>\n",
       "      <td>1627</td>\n",
       "      <td>A</td>\n",
       "    </tr>\n",
       "    <tr>\n",
       "      <th>1</th>\n",
       "      <td>2085</td>\n",
       "      <td>B</td>\n",
       "    </tr>\n",
       "    <tr>\n",
       "      <th>2</th>\n",
       "      <td>2215</td>\n",
       "      <td>B</td>\n",
       "    </tr>\n",
       "    <tr>\n",
       "      <th>3</th>\n",
       "      <td>3391</td>\n",
       "      <td>A</td>\n",
       "    </tr>\n",
       "    <tr>\n",
       "      <th>4</th>\n",
       "      <td>3401</td>\n",
       "      <td>B</td>\n",
       "    </tr>\n",
       "  </tbody>\n",
       "</table>\n",
       "</div>"
      ],
      "text/plain": [
       "   student_id grp\n",
       "0        1627   A\n",
       "1        2085   B\n",
       "2        2215   B\n",
       "3        3391   A\n",
       "4        3401   B"
      ]
     },
     "execution_count": 16,
     "metadata": {},
     "output_type": "execute_result"
    }
   ],
   "source": [
    "groups_active.head()"
   ]
  },
  {
   "cell_type": "code",
   "execution_count": 17,
   "metadata": {},
   "outputs": [
    {
     "data": {
      "text/plain": [
       "(8328, 2)"
      ]
     },
     "execution_count": 17,
     "metadata": {},
     "output_type": "execute_result"
    }
   ],
   "source": [
    "groups_active.shape"
   ]
  },
  {
   "cell_type": "markdown",
   "metadata": {},
   "source": [
    "Посмотрим, какие 13 пользователей не попали в объединенный датафрейм groups_active."
   ]
  },
  {
   "cell_type": "code",
   "execution_count": 18,
   "metadata": {},
   "outputs": [
    {
     "data": {
      "text/html": [
       "<div>\n",
       "<style scoped>\n",
       "    .dataframe tbody tr th:only-of-type {\n",
       "        vertical-align: middle;\n",
       "    }\n",
       "\n",
       "    .dataframe tbody tr th {\n",
       "        vertical-align: top;\n",
       "    }\n",
       "\n",
       "    .dataframe thead th {\n",
       "        text-align: right;\n",
       "    }\n",
       "</style>\n",
       "<table border=\"1\" class=\"dataframe\">\n",
       "  <thead>\n",
       "    <tr style=\"text-align: right;\">\n",
       "      <th></th>\n",
       "      <th>student_id</th>\n",
       "      <th>grp</th>\n",
       "    </tr>\n",
       "  </thead>\n",
       "  <tbody>\n",
       "    <tr>\n",
       "      <th>1</th>\n",
       "      <td>5723133</td>\n",
       "      <td>NaN</td>\n",
       "    </tr>\n",
       "    <tr>\n",
       "      <th>111</th>\n",
       "      <td>5951797</td>\n",
       "      <td>NaN</td>\n",
       "    </tr>\n",
       "    <tr>\n",
       "      <th>632</th>\n",
       "      <td>5730382</td>\n",
       "      <td>NaN</td>\n",
       "    </tr>\n",
       "    <tr>\n",
       "      <th>2662</th>\n",
       "      <td>5739944</td>\n",
       "      <td>NaN</td>\n",
       "    </tr>\n",
       "    <tr>\n",
       "      <th>3830</th>\n",
       "      <td>5945085</td>\n",
       "      <td>NaN</td>\n",
       "    </tr>\n",
       "    <tr>\n",
       "      <th>4900</th>\n",
       "      <td>5700613</td>\n",
       "      <td>NaN</td>\n",
       "    </tr>\n",
       "    <tr>\n",
       "      <th>5254</th>\n",
       "      <td>5729371</td>\n",
       "      <td>NaN</td>\n",
       "    </tr>\n",
       "    <tr>\n",
       "      <th>5746</th>\n",
       "      <td>5777081</td>\n",
       "      <td>NaN</td>\n",
       "    </tr>\n",
       "    <tr>\n",
       "      <th>7413</th>\n",
       "      <td>5740903</td>\n",
       "      <td>NaN</td>\n",
       "    </tr>\n",
       "    <tr>\n",
       "      <th>7505</th>\n",
       "      <td>5760471</td>\n",
       "      <td>NaN</td>\n",
       "    </tr>\n",
       "    <tr>\n",
       "      <th>7535</th>\n",
       "      <td>5728431</td>\n",
       "      <td>NaN</td>\n",
       "    </tr>\n",
       "    <tr>\n",
       "      <th>7647</th>\n",
       "      <td>5723648</td>\n",
       "      <td>NaN</td>\n",
       "    </tr>\n",
       "    <tr>\n",
       "      <th>7668</th>\n",
       "      <td>5870856</td>\n",
       "      <td>NaN</td>\n",
       "    </tr>\n",
       "  </tbody>\n",
       "</table>\n",
       "</div>"
      ],
      "text/plain": [
       "      student_id  grp\n",
       "1        5723133  NaN\n",
       "111      5951797  NaN\n",
       "632      5730382  NaN\n",
       "2662     5739944  NaN\n",
       "3830     5945085  NaN\n",
       "4900     5700613  NaN\n",
       "5254     5729371  NaN\n",
       "5746     5777081  NaN\n",
       "7413     5740903  NaN\n",
       "7505     5760471  NaN\n",
       "7535     5728431  NaN\n",
       "7647     5723648  NaN\n",
       "7668     5870856  NaN"
      ]
     },
     "execution_count": 18,
     "metadata": {},
     "output_type": "execute_result"
    }
   ],
   "source": [
    "lost_students = active_studs.merge(groups_active, on='student_id', how='left')\n",
    "lost_students = lost_students.loc[lost_students['grp'].isnull()]\n",
    "lost_students"
   ]
  },
  {
   "cell_type": "code",
   "execution_count": 19,
   "metadata": {},
   "outputs": [
    {
     "data": {
      "text/plain": [
       "13"
      ]
     },
     "execution_count": 19,
     "metadata": {},
     "output_type": "execute_result"
    }
   ],
   "source": [
    "group_add.id.apply(lambda x: 1 if x in list(lost_students.student_id) else 0).sum()"
   ]
  },
  {
   "cell_type": "markdown",
   "metadata": {},
   "source": [
    "Эти студенты принадлежат к датафрейму group_add. Они не будут участвовать в эксперименте сейчас."
   ]
  },
  {
   "cell_type": "code",
   "execution_count": 20,
   "metadata": {},
   "outputs": [
    {
     "data": {
      "text/html": [
       "<div>\n",
       "<style scoped>\n",
       "    .dataframe tbody tr th:only-of-type {\n",
       "        vertical-align: middle;\n",
       "    }\n",
       "\n",
       "    .dataframe tbody tr th {\n",
       "        vertical-align: top;\n",
       "    }\n",
       "\n",
       "    .dataframe thead th {\n",
       "        text-align: right;\n",
       "    }\n",
       "</style>\n",
       "<table border=\"1\" class=\"dataframe\">\n",
       "  <thead>\n",
       "    <tr style=\"text-align: right;\">\n",
       "      <th></th>\n",
       "      <th>student_id</th>\n",
       "      <th>rev</th>\n",
       "    </tr>\n",
       "  </thead>\n",
       "  <tbody>\n",
       "    <tr>\n",
       "      <th>0</th>\n",
       "      <td>1627</td>\n",
       "      <td>990.0</td>\n",
       "    </tr>\n",
       "    <tr>\n",
       "      <th>1</th>\n",
       "      <td>3185</td>\n",
       "      <td>690.0</td>\n",
       "    </tr>\n",
       "    <tr>\n",
       "      <th>2</th>\n",
       "      <td>25973</td>\n",
       "      <td>690.0</td>\n",
       "    </tr>\n",
       "    <tr>\n",
       "      <th>3</th>\n",
       "      <td>26280</td>\n",
       "      <td>690.0</td>\n",
       "    </tr>\n",
       "    <tr>\n",
       "      <th>4</th>\n",
       "      <td>100300</td>\n",
       "      <td>990.0</td>\n",
       "    </tr>\n",
       "  </tbody>\n",
       "</table>\n",
       "</div>"
      ],
      "text/plain": [
       "   student_id    rev\n",
       "0        1627  990.0\n",
       "1        3185  690.0\n",
       "2       25973  690.0\n",
       "3       26280  690.0\n",
       "4      100300  990.0"
      ]
     },
     "execution_count": 20,
     "metadata": {},
     "output_type": "execute_result"
    }
   ],
   "source": [
    "checks.head()"
   ]
  },
  {
   "cell_type": "code",
   "execution_count": 21,
   "metadata": {},
   "outputs": [
    {
     "name": "stdout",
     "output_type": "stream",
     "text": [
      "Количество строк в датафрейме checks = 541\n",
      "Количество уникальных пользователей в датафрейме checks = 541\n"
     ]
    }
   ],
   "source": [
    "print(f'Количество строк в датафрейме checks = {checks.shape[0]}')\n",
    "print(f'Количество уникальных пользователей в датафрейме checks = {checks.student_id.nunique()}')"
   ]
  },
  {
   "cell_type": "code",
   "execution_count": 22,
   "metadata": {},
   "outputs": [
    {
     "data": {
      "text/plain": [
       "1900.0000    97\n",
       "290.0000     94\n",
       "690.0000     78\n",
       "199.0000     46\n",
       "990.0000     41\n",
       "1900.0001    36\n",
       "840.0000     27\n",
       "1140.0000    25\n",
       "580.0000     15\n",
       "590.0000     11\n",
       "398.0000      9\n",
       "1530.0000     8\n",
       "870.0000      6\n",
       "3660.0000     5\n",
       "2910.0000     4\n",
       "2890.0000     4\n",
       "1980.0000     4\n",
       "2099.0000     3\n",
       "489.0000      3\n",
       "1160.0000     3\n",
       "1180.0000     2\n",
       "2220.0000     2\n",
       "2820.0000     2\n",
       "597.0000      1\n",
       "1388.0000     1\n",
       "3260.0000     1\n",
       "880.0000      1\n",
       "3040.0000     1\n",
       "796.0000      1\n",
       "1968.0000     1\n",
       "1339.0000     1\n",
       "4650.0000     1\n",
       "2900.0000     1\n",
       "630.0000      1\n",
       "1830.0000     1\n",
       "1039.0000     1\n",
       "1050.0000     1\n",
       "1729.0000     1\n",
       "2190.0000     1\n",
       "Name: rev, dtype: int64"
      ]
     },
     "execution_count": 22,
     "metadata": {},
     "output_type": "execute_result"
    }
   ],
   "source": [
    "checks.rev.value_counts()"
   ]
  },
  {
   "cell_type": "markdown",
   "metadata": {},
   "source": [
    "Мы наблюдаем множество различных вариантов чеков. Скорее всего, данные по платящим пользователям в исходном файле checks уже агрегированы, и столбец 'rev' отражает сумму платежей по пользователям. Возможно, пользователи платили за отдельные горошины или за отдельные уроки, или за курсы по дисциплинам несколько раз. "
   ]
  },
  {
   "cell_type": "code",
   "execution_count": 23,
   "metadata": {},
   "outputs": [
    {
     "data": {
      "text/plain": [
       "1"
      ]
     },
     "execution_count": 23,
     "metadata": {},
     "output_type": "execute_result"
    }
   ],
   "source": [
    "group_add.id.apply(lambda x: 1 if x in list(checks.student_id) else 0).sum()"
   ]
  },
  {
   "cell_type": "code",
   "execution_count": 24,
   "metadata": {},
   "outputs": [
    {
     "data": {
      "text/plain": [
       "540"
      ]
     },
     "execution_count": 24,
     "metadata": {},
     "output_type": "execute_result"
    }
   ],
   "source": [
    "groups.student_id.apply(lambda x: 1 if x in list(checks.student_id) else 0).sum()"
   ]
  },
  {
   "cell_type": "code",
   "execution_count": 25,
   "metadata": {},
   "outputs": [
    {
     "data": {
      "text/plain": [
       "392"
      ]
     },
     "execution_count": 25,
     "metadata": {},
     "output_type": "execute_result"
    }
   ],
   "source": [
    "active_studs.student_id.apply(lambda x: 1 if x in list(checks.student_id) else 0).sum()"
   ]
  },
  {
   "cell_type": "markdown",
   "metadata": {},
   "source": [
    "Проводили оплату на платформе в дни эксперимента 540 студентов из датафрейма groups и только 1 студент из group_add.\n",
    "При этом 149 студентов (541 - 392) производили оплату на платформе, но не были активны в дни эксперимента.\\\n",
    "В теории, платящими и неактивными могут быть пользователи, у которых произошло автоматическое продление подписки в дни проведения эксперимента."
   ]
  },
  {
   "cell_type": "markdown",
   "metadata": {},
   "source": [
    "Посмотрим на платежи этих 149 *платящих, но неактивных студентов*"
   ]
  },
  {
   "cell_type": "code",
   "execution_count": 26,
   "metadata": {},
   "outputs": [
    {
     "data": {
      "text/html": [
       "<div>\n",
       "<style scoped>\n",
       "    .dataframe tbody tr th:only-of-type {\n",
       "        vertical-align: middle;\n",
       "    }\n",
       "\n",
       "    .dataframe tbody tr th {\n",
       "        vertical-align: top;\n",
       "    }\n",
       "\n",
       "    .dataframe thead th {\n",
       "        text-align: right;\n",
       "    }\n",
       "</style>\n",
       "<table border=\"1\" class=\"dataframe\">\n",
       "  <thead>\n",
       "    <tr style=\"text-align: right;\">\n",
       "      <th></th>\n",
       "      <th>student_id</th>\n",
       "      <th>rev</th>\n",
       "      <th>_merge</th>\n",
       "    </tr>\n",
       "  </thead>\n",
       "  <tbody>\n",
       "    <tr>\n",
       "      <th>0</th>\n",
       "      <td>1627</td>\n",
       "      <td>990.0</td>\n",
       "      <td>both</td>\n",
       "    </tr>\n",
       "    <tr>\n",
       "      <th>1</th>\n",
       "      <td>3185</td>\n",
       "      <td>690.0</td>\n",
       "      <td>left_only</td>\n",
       "    </tr>\n",
       "    <tr>\n",
       "      <th>2</th>\n",
       "      <td>25973</td>\n",
       "      <td>690.0</td>\n",
       "      <td>left_only</td>\n",
       "    </tr>\n",
       "    <tr>\n",
       "      <th>3</th>\n",
       "      <td>26280</td>\n",
       "      <td>690.0</td>\n",
       "      <td>left_only</td>\n",
       "    </tr>\n",
       "    <tr>\n",
       "      <th>4</th>\n",
       "      <td>100300</td>\n",
       "      <td>990.0</td>\n",
       "      <td>both</td>\n",
       "    </tr>\n",
       "  </tbody>\n",
       "</table>\n",
       "</div>"
      ],
      "text/plain": [
       "   student_id    rev     _merge\n",
       "0        1627  990.0       both\n",
       "1        3185  690.0  left_only\n",
       "2       25973  690.0  left_only\n",
       "3       26280  690.0  left_only\n",
       "4      100300  990.0       both"
      ]
     },
     "execution_count": 26,
     "metadata": {},
     "output_type": "execute_result"
    }
   ],
   "source": [
    "paying_inactive = checks.merge(active_studs, on='student_id', how='left', indicator=True)\n",
    "paying_inactive.head()"
   ]
  },
  {
   "cell_type": "code",
   "execution_count": 27,
   "metadata": {},
   "outputs": [
    {
     "data": {
      "text/html": [
       "<div>\n",
       "<style scoped>\n",
       "    .dataframe tbody tr th:only-of-type {\n",
       "        vertical-align: middle;\n",
       "    }\n",
       "\n",
       "    .dataframe tbody tr th {\n",
       "        vertical-align: top;\n",
       "    }\n",
       "\n",
       "    .dataframe thead th {\n",
       "        text-align: right;\n",
       "    }\n",
       "</style>\n",
       "<table border=\"1\" class=\"dataframe\">\n",
       "  <thead>\n",
       "    <tr style=\"text-align: right;\">\n",
       "      <th></th>\n",
       "      <th>student_id</th>\n",
       "      <th>rev</th>\n",
       "    </tr>\n",
       "  </thead>\n",
       "  <tbody>\n",
       "    <tr>\n",
       "      <th>1</th>\n",
       "      <td>3185</td>\n",
       "      <td>690.0</td>\n",
       "    </tr>\n",
       "    <tr>\n",
       "      <th>2</th>\n",
       "      <td>25973</td>\n",
       "      <td>690.0</td>\n",
       "    </tr>\n",
       "    <tr>\n",
       "      <th>3</th>\n",
       "      <td>26280</td>\n",
       "      <td>690.0</td>\n",
       "    </tr>\n",
       "    <tr>\n",
       "      <th>5</th>\n",
       "      <td>100645</td>\n",
       "      <td>630.0</td>\n",
       "    </tr>\n",
       "    <tr>\n",
       "      <th>6</th>\n",
       "      <td>102534</td>\n",
       "      <td>580.0</td>\n",
       "    </tr>\n",
       "  </tbody>\n",
       "</table>\n",
       "</div>"
      ],
      "text/plain": [
       "   student_id    rev\n",
       "1        3185  690.0\n",
       "2       25973  690.0\n",
       "3       26280  690.0\n",
       "5      100645  630.0\n",
       "6      102534  580.0"
      ]
     },
     "execution_count": 27,
     "metadata": {},
     "output_type": "execute_result"
    }
   ],
   "source": [
    "paying_inactive = paying_inactive.loc[paying_inactive['_merge'] == 'left_only']\n",
    "paying_inactive = paying_inactive.drop('_merge', axis=1)\n",
    "paying_inactive.head()"
   ]
  },
  {
   "cell_type": "code",
   "execution_count": 28,
   "metadata": {},
   "outputs": [
    {
     "data": {
      "text/plain": [
       "count     149.000000\n",
       "mean      708.268457\n",
       "std       378.699192\n",
       "min       199.000000\n",
       "25%       290.000000\n",
       "50%       690.000000\n",
       "75%       990.000000\n",
       "max      1980.000000\n",
       "Name: rev, dtype: float64"
      ]
     },
     "execution_count": 28,
     "metadata": {},
     "output_type": "execute_result"
    }
   ],
   "source": [
    "paying_inactive.rev.describe()"
   ]
  },
  {
   "cell_type": "code",
   "execution_count": 29,
   "metadata": {},
   "outputs": [
    {
     "data": {
      "text/plain": [
       "690.0000     61\n",
       "290.0000     24\n",
       "990.0000     19\n",
       "199.0000     14\n",
       "1140.0000    14\n",
       "1900.0000     4\n",
       "580.0000      4\n",
       "840.0000      3\n",
       "398.0000      2\n",
       "1900.0001     1\n",
       "1180.0000     1\n",
       "1980.0000     1\n",
       "630.0000      1\n",
       "Name: rev, dtype: int64"
      ]
     },
     "execution_count": 29,
     "metadata": {},
     "output_type": "execute_result"
    }
   ],
   "source": [
    "paying_inactive.rev.value_counts()"
   ]
  },
  {
   "cell_type": "code",
   "execution_count": 30,
   "metadata": {},
   "outputs": [
    {
     "data": {
      "text/plain": [
       "13"
      ]
     },
     "execution_count": 30,
     "metadata": {},
     "output_type": "execute_result"
    }
   ],
   "source": [
    "paying_inactive.rev.nunique()"
   ]
  },
  {
   "cell_type": "markdown",
   "metadata": {},
   "source": [
    "У \"платящих и неактивных\" пользователей, как мы видим, 13 различных вариантов сумм платежей в дни эксперимента. Это не похоже на ситуацию автоматического продления подписки у неактивных пользователей. Некоторые из этих студентов совершили, вероятно, даже несколько платежей. Возможно, произошла ошибка в сборе данных, и активность этих студентов не была учтена. **Необходимо разобраться, в чем причина появления в данных таких \"платящих и неактивных студентов\"**. Мы не будем включать этих студентов в A/B-тест. **Будем учитывать только студентов из файла active_studs**."
   ]
  },
  {
   "cell_type": "markdown",
   "metadata": {},
   "source": [
    "**Соберем итоговый датафрейм** для анализа результатов эксперимента (пока что *без учета group_add*). Нам важны *только активные студенты*, так как именно они могли видеть (или - для контрольной группы - не видеть) новую механику оплаты."
   ]
  },
  {
   "cell_type": "code",
   "execution_count": 31,
   "metadata": {},
   "outputs": [
    {
     "data": {
      "text/html": [
       "<div>\n",
       "<style scoped>\n",
       "    .dataframe tbody tr th:only-of-type {\n",
       "        vertical-align: middle;\n",
       "    }\n",
       "\n",
       "    .dataframe tbody tr th {\n",
       "        vertical-align: top;\n",
       "    }\n",
       "\n",
       "    .dataframe thead th {\n",
       "        text-align: right;\n",
       "    }\n",
       "</style>\n",
       "<table border=\"1\" class=\"dataframe\">\n",
       "  <thead>\n",
       "    <tr style=\"text-align: right;\">\n",
       "      <th></th>\n",
       "      <th>student_id</th>\n",
       "      <th>grp</th>\n",
       "      <th>rev</th>\n",
       "    </tr>\n",
       "  </thead>\n",
       "  <tbody>\n",
       "    <tr>\n",
       "      <th>0</th>\n",
       "      <td>1627</td>\n",
       "      <td>A</td>\n",
       "      <td>990.0</td>\n",
       "    </tr>\n",
       "    <tr>\n",
       "      <th>1</th>\n",
       "      <td>2085</td>\n",
       "      <td>B</td>\n",
       "      <td>NaN</td>\n",
       "    </tr>\n",
       "    <tr>\n",
       "      <th>2</th>\n",
       "      <td>2215</td>\n",
       "      <td>B</td>\n",
       "      <td>NaN</td>\n",
       "    </tr>\n",
       "    <tr>\n",
       "      <th>3</th>\n",
       "      <td>3391</td>\n",
       "      <td>A</td>\n",
       "      <td>NaN</td>\n",
       "    </tr>\n",
       "    <tr>\n",
       "      <th>4</th>\n",
       "      <td>3401</td>\n",
       "      <td>B</td>\n",
       "      <td>NaN</td>\n",
       "    </tr>\n",
       "  </tbody>\n",
       "</table>\n",
       "</div>"
      ],
      "text/plain": [
       "   student_id grp    rev\n",
       "0        1627   A  990.0\n",
       "1        2085   B    NaN\n",
       "2        2215   B    NaN\n",
       "3        3391   A    NaN\n",
       "4        3401   B    NaN"
      ]
     },
     "execution_count": 31,
     "metadata": {},
     "output_type": "execute_result"
    }
   ],
   "source": [
    "control_test = groups_active.merge(checks, on='student_id', how='left')\n",
    "control_test.head()"
   ]
  },
  {
   "cell_type": "code",
   "execution_count": 32,
   "metadata": {},
   "outputs": [
    {
     "name": "stdout",
     "output_type": "stream",
     "text": [
      "Количество пользователей в контрольной группе(А) равно 1535 (18.4% от общего количества)\n",
      "Количество пользователей в целевой группе(B) равно 6793 (81.6% от общего количества)\n"
     ]
    }
   ],
   "source": [
    "print(f'Количество пользователей в контрольной группе(А) равно {control_test.grp.value_counts().loc[\"A\"]} \\\n",
    "({round((control_test.grp.value_counts().loc[\"A\"] / control_test.shape[0] * 100), 1)}% от общего количества)')\n",
    "print(f'Количество пользователей в целевой группе(B) равно {control_test.grp.value_counts().loc[\"B\"]} \\\n",
    "({round((control_test.grp.value_counts().loc[\"B\"] / control_test.shape[0] * 100), 1)}% от общего количества)')"
   ]
  },
  {
   "cell_type": "code",
   "execution_count": 33,
   "metadata": {},
   "outputs": [],
   "source": [
    "# Для удобства создадим отдельные датафреймы для контрольной и тестовой групп\n",
    "control = control_test.query('grp == \"A\"')\n",
    "test = control_test.query('grp == \"B\"')"
   ]
  },
  {
   "cell_type": "markdown",
   "metadata": {},
   "source": [
    "Посмотрим на распределение доходов в контрольной и целевой группах."
   ]
  },
  {
   "cell_type": "code",
   "execution_count": 34,
   "metadata": {},
   "outputs": [
    {
     "data": {
      "image/png": "[encoded data removed]",
      "text/plain": [
       "<Figure size 432x288 with 1 Axes>"
      ]
     },
     "metadata": {},
     "output_type": "display_data"
    }
   ],
   "source": [
    "sns.boxplot(data=control_test,\n",
    "            x='grp',\n",
    "            y='rev',\n",
    "            palette=['lightcoral', 'powderblue'])\n",
    "plt.ylabel('Чек, руб.', size=12)\n",
    "plt.xlabel('Группа', size=12)\n",
    "plt.yticks(size=10)\n",
    "plt.xticks(size=10)\n",
    "sns.despine(left=True, bottom=True)\n",
    "plt.show()"
   ]
  },
  {
   "cell_type": "code",
   "execution_count": 35,
   "metadata": {},
   "outputs": [
    {
     "name": "stdout",
     "output_type": "stream",
     "text": [
      "Минимальная сумма чека для контрольной группы составила 199 руб., а максимальная - 3660 руб.\n",
      "Медианный чек для контрольной группы равен 585 руб.\n"
     ]
    }
   ],
   "source": [
    "print(f'Минимальная сумма чека для контрольной группы составила {int(control.rev.min())} руб., \\\n",
    "а максимальная - {int(control.rev.max())} руб.')\n",
    "print(f'Медианный чек для контрольной группы равен {int(control.rev.median())} руб.')"
   ]
  },
  {
   "cell_type": "code",
   "execution_count": 36,
   "metadata": {},
   "outputs": [
    {
     "name": "stdout",
     "output_type": "stream",
     "text": [
      "Минимальная сумма чека для целевой группы составила 199 руб., а максимальная - 4650 руб.\n",
      "Медианный чек для целевой группы равен 1140 руб.\n"
     ]
    }
   ],
   "source": [
    "print(f'Минимальная сумма чека для целевой группы составила {int(test.rev.min())} руб., \\\n",
    "а максимальная - {int(test.rev.max())} руб.')\n",
    "print(f'Медианный чек для целевой группы равен {int(test.rev.median())} руб.')"
   ]
  },
  {
   "cell_type": "markdown",
   "metadata": {},
   "source": [
    "*Медианный чек на платящего пользователя в целевой группе выше, чем в контрольной*. В обеих группах зафиксированы аномально высокие значения."
   ]
  },
  {
   "cell_type": "code",
   "execution_count": 37,
   "metadata": {},
   "outputs": [
    {
     "data": {
      "image/png": "[encoded data removed]",
      "text/plain": [
       "<Figure size 864x360 with 2 Axes>"
      ]
     },
     "metadata": {},
     "output_type": "display_data"
    }
   ],
   "source": [
    "fig, axes = plt.subplots(1, 2, figsize=(12, 5))\n",
    "\n",
    "sns.histplot(data=control,\n",
    "             x='rev',\n",
    "             ax=axes[0],\n",
    "             color='lightcoral')\n",
    "axes[0].set_title('Контрольная группа', size=14)\n",
    "axes[0].set_xlabel('Сумма платежей, руб.')\n",
    "axes[0].set_ylabel('Количество платящих пользователей')\n",
    "\n",
    "sns.histplot(data=test,\n",
    "             x='rev',\n",
    "             ax=axes[1],\n",
    "             color='powderblue')\n",
    "axes[1].set_title('Целевая группа', size=14)\n",
    "axes[1].set_xlabel('Сумма платежей, руб.')\n",
    "axes[1].set_ylabel('Количество платящих пользователей')\n",
    "\n",
    "sns.despine(left=True, bottom=True)\n",
    "plt.tight_layout()\n",
    "plt.show()"
   ]
  },
  {
   "cell_type": "markdown",
   "metadata": {},
   "source": [
    "Визуально распределения пользователей контрольной и целевой групп по сумме платежей сильно отличаются от нормального. Распределения имеют правостороннюю асимметрию и содержат выбросы с высокой суммой платежей."
   ]
  },
  {
   "cell_type": "markdown",
   "metadata": {},
   "source": [
    "Проверим данные на нормальность с помощью теста Д'Агостино-Пирсона."
   ]
  },
  {
   "cell_type": "code",
   "execution_count": 38,
   "metadata": {},
   "outputs": [
    {
     "data": {
      "text/html": [
       "<div>\n",
       "<style scoped>\n",
       "    .dataframe tbody tr th:only-of-type {\n",
       "        vertical-align: middle;\n",
       "    }\n",
       "\n",
       "    .dataframe tbody tr th {\n",
       "        vertical-align: top;\n",
       "    }\n",
       "\n",
       "    .dataframe thead th {\n",
       "        text-align: right;\n",
       "    }\n",
       "</style>\n",
       "<table border=\"1\" class=\"dataframe\">\n",
       "  <thead>\n",
       "    <tr style=\"text-align: right;\">\n",
       "      <th></th>\n",
       "      <th>W</th>\n",
       "      <th>pval</th>\n",
       "      <th>normal</th>\n",
       "    </tr>\n",
       "  </thead>\n",
       "  <tbody>\n",
       "    <tr>\n",
       "      <th>A</th>\n",
       "      <td>30.37842</td>\n",
       "      <td>2.531687e-07</td>\n",
       "      <td>False</td>\n",
       "    </tr>\n",
       "    <tr>\n",
       "      <th>B</th>\n",
       "      <td>7.02227</td>\n",
       "      <td>2.986301e-02</td>\n",
       "      <td>False</td>\n",
       "    </tr>\n",
       "  </tbody>\n",
       "</table>\n",
       "</div>"
      ],
      "text/plain": [
       "          W          pval  normal\n",
       "A  30.37842  2.531687e-07   False\n",
       "B   7.02227  2.986301e-02   False"
      ]
     },
     "execution_count": 38,
     "metadata": {},
     "output_type": "execute_result"
    }
   ],
   "source": [
    "pg.normality(data=control_test, dv='rev', group='grp', method='normaltest')"
   ]
  },
  {
   "cell_type": "markdown",
   "metadata": {},
   "source": [
    "Тест Д'Агостино-Пирсона подтвердил, что *распределения в выборках отличаются от нормального*."
   ]
  },
  {
   "cell_type": "markdown",
   "metadata": {},
   "source": [
    "**Выберем метрики и сформулируем гипотезу.**"
   ]
  },
  {
   "cell_type": "markdown",
   "metadata": {},
   "source": [
    "По условию кейса необходимо проверить успешность эксперимента по внедрению новой механики оплаты услуг на сайте. Нам точно не известно, какую проблему пользователей сайта мы хотим решить. Можно предположить, что новая механика оплаты избавит пользователей от ручного ввода реквизитов карты, занимающего много времени, и *студенты перестанут стопориться на оплате уроков/курсов*. Для того чтобы конкретизировать проблему в гипотезе, которую мы будем проверять, и выбрать интерпретируемые метрики, будем придерживаться этого предположения.\\\n",
    "Успех от эксперимента по введению новой механики оплаты наиболее ярко будут отражать метрики *конверсия в оплату (CR)*, *средний доход на пользователя (ARPU)* и *средний доход на платящего пользователя (ARPPU)*. В расчет метрик будем включать только тех пользователей, которые заходили на сайт и проходили уроки в дни эксперимента. Все эти метрики взаимосвязаны (ARPU = CR * ARPPU), они чувствительны к результатам эксперимента и интерпретируемы."
   ]
  },
  {
   "cell_type": "markdown",
   "metadata": {},
   "source": [
    "Сформулируем следующую гипотезу:\\\n",
    "**Если внедрим новую механику оплаты, то пользователи сайта образовательной платформы перестанут стопориться на оплате услуг, вследствие чего CR, ARPU и ARPPU статистически значимо увеличатся**."
   ]
  },
  {
   "cell_type": "markdown",
   "metadata": {},
   "source": [
    "Для проверки гипотезы относительно конверсии в оплату используем **критерий Хи-квадрат**, так как мы анализируем количество успешных событий (оплата) относительно общего числа активных пользователей. Для этого необходимо завести альтернативную переменную: 'paying' - пользователь конвертировался в платящего, 'not paying' - не конвертировался."
   ]
  },
  {
   "cell_type": "code",
   "execution_count": 39,
   "metadata": {},
   "outputs": [],
   "source": [
    "control_test_copy = control_test.copy()"
   ]
  },
  {
   "cell_type": "code",
   "execution_count": 40,
   "metadata": {},
   "outputs": [],
   "source": [
    "control_test_copy['rev'] = control_test_copy['rev'].fillna(0)"
   ]
  },
  {
   "cell_type": "code",
   "execution_count": 41,
   "metadata": {},
   "outputs": [],
   "source": [
    "control_test_copy['conversion'] = control_test_copy.rev.apply(lambda x: 'not paying' if x == 0 else 'paying')"
   ]
  },
  {
   "cell_type": "code",
   "execution_count": 42,
   "metadata": {},
   "outputs": [
    {
     "data": {
      "text/html": [
       "<div>\n",
       "<style scoped>\n",
       "    .dataframe tbody tr th:only-of-type {\n",
       "        vertical-align: middle;\n",
       "    }\n",
       "\n",
       "    .dataframe tbody tr th {\n",
       "        vertical-align: top;\n",
       "    }\n",
       "\n",
       "    .dataframe thead th {\n",
       "        text-align: right;\n",
       "    }\n",
       "</style>\n",
       "<table border=\"1\" class=\"dataframe\">\n",
       "  <thead>\n",
       "    <tr style=\"text-align: right;\">\n",
       "      <th></th>\n",
       "      <th>student_id</th>\n",
       "      <th>grp</th>\n",
       "      <th>rev</th>\n",
       "      <th>conversion</th>\n",
       "    </tr>\n",
       "  </thead>\n",
       "  <tbody>\n",
       "    <tr>\n",
       "      <th>0</th>\n",
       "      <td>1627</td>\n",
       "      <td>A</td>\n",
       "      <td>990.0</td>\n",
       "      <td>paying</td>\n",
       "    </tr>\n",
       "    <tr>\n",
       "      <th>1</th>\n",
       "      <td>2085</td>\n",
       "      <td>B</td>\n",
       "      <td>0.0</td>\n",
       "      <td>not paying</td>\n",
       "    </tr>\n",
       "    <tr>\n",
       "      <th>2</th>\n",
       "      <td>2215</td>\n",
       "      <td>B</td>\n",
       "      <td>0.0</td>\n",
       "      <td>not paying</td>\n",
       "    </tr>\n",
       "    <tr>\n",
       "      <th>3</th>\n",
       "      <td>3391</td>\n",
       "      <td>A</td>\n",
       "      <td>0.0</td>\n",
       "      <td>not paying</td>\n",
       "    </tr>\n",
       "    <tr>\n",
       "      <th>4</th>\n",
       "      <td>3401</td>\n",
       "      <td>B</td>\n",
       "      <td>0.0</td>\n",
       "      <td>not paying</td>\n",
       "    </tr>\n",
       "  </tbody>\n",
       "</table>\n",
       "</div>"
      ],
      "text/plain": [
       "   student_id grp    rev  conversion\n",
       "0        1627   A  990.0      paying\n",
       "1        2085   B    0.0  not paying\n",
       "2        2215   B    0.0  not paying\n",
       "3        3391   A    0.0  not paying\n",
       "4        3401   B    0.0  not paying"
      ]
     },
     "execution_count": 42,
     "metadata": {},
     "output_type": "execute_result"
    }
   ],
   "source": [
    "control_test_copy.head()"
   ]
  },
  {
   "cell_type": "code",
   "execution_count": 43,
   "metadata": {},
   "outputs": [
    {
     "data": {
      "text/html": [
       "<div>\n",
       "<style scoped>\n",
       "    .dataframe tbody tr th:only-of-type {\n",
       "        vertical-align: middle;\n",
       "    }\n",
       "\n",
       "    .dataframe tbody tr th {\n",
       "        vertical-align: top;\n",
       "    }\n",
       "\n",
       "    .dataframe thead th {\n",
       "        text-align: right;\n",
       "    }\n",
       "</style>\n",
       "<table border=\"1\" class=\"dataframe\">\n",
       "  <thead>\n",
       "    <tr style=\"text-align: right;\">\n",
       "      <th>conversion</th>\n",
       "      <th>not paying</th>\n",
       "      <th>paying</th>\n",
       "    </tr>\n",
       "    <tr>\n",
       "      <th>grp</th>\n",
       "      <th></th>\n",
       "      <th></th>\n",
       "    </tr>\n",
       "  </thead>\n",
       "  <tbody>\n",
       "    <tr>\n",
       "      <th>A</th>\n",
       "      <td>1457</td>\n",
       "      <td>78</td>\n",
       "    </tr>\n",
       "    <tr>\n",
       "      <th>B</th>\n",
       "      <td>6480</td>\n",
       "      <td>313</td>\n",
       "    </tr>\n",
       "  </tbody>\n",
       "</table>\n",
       "</div>"
      ],
      "text/plain": [
       "conversion  not paying  paying\n",
       "grp                           \n",
       "A                 1457      78\n",
       "B                 6480     313"
      ]
     },
     "execution_count": 43,
     "metadata": {},
     "output_type": "execute_result"
    }
   ],
   "source": [
    "df_crosstab = pd.crosstab(index=control_test_copy.grp, columns=control_test_copy.conversion)\n",
    "df_crosstab"
   ]
  },
  {
   "cell_type": "code",
   "execution_count": 44,
   "metadata": {},
   "outputs": [
    {
     "name": "stdout",
     "output_type": "stream",
     "text": [
      "Конверсия в оплату для контрольной группы (A) cоставила 5.1%\n",
      "Конверсия в оплату для целевой группы (B) cоставила 4.6%\n"
     ]
    }
   ],
   "source": [
    "print(f'Конверсия в оплату для контрольной группы (A) cоставила \\\n",
    "{round((df_crosstab.iloc[0, 1] / control.shape[0] * 100), 1)}%')\n",
    "print(f'Конверсия в оплату для целевой группы (B) cоставила \\\n",
    "{round((df_crosstab.iloc[1, 1] / test.shape[0] * 100), 1)}%')"
   ]
  },
  {
   "cell_type": "markdown",
   "metadata": {},
   "source": [
    "**H0**: между контрольной и целевой группами различий в CR нет\\\n",
    "**H1**: между контрольной и целевой группами различия в CR есть"
   ]
  },
  {
   "cell_type": "code",
   "execution_count": 45,
   "metadata": {},
   "outputs": [],
   "source": [
    "statistic, pvalue, dof, expected_freq = st.chi2_contingency(df_crosstab, correction=False)\n",
    "# Количество наблюдений в каждой ячейке составляет более 10 -> поправку Йетса делать не нужно"
   ]
  },
  {
   "cell_type": "code",
   "execution_count": 46,
   "metadata": {},
   "outputs": [
    {
     "data": {
      "text/plain": [
       "0.4280822964525912"
      ]
     },
     "execution_count": 46,
     "metadata": {},
     "output_type": "execute_result"
    }
   ],
   "source": [
    "pvalue"
   ]
  },
  {
   "cell_type": "markdown",
   "metadata": {},
   "source": [
    "Т.к. p-value > 0.05, у нас **нет оснований отвергнуть нулевую гипотезу**, и разница в CR между группами вполне может быть обусловлена случайностью."
   ]
  },
  {
   "cell_type": "markdown",
   "metadata": {},
   "source": [
    "Таким образом, **значимых различий между конверсией в оплату пользователей контрольной и целевой групп не обнаружено**. CR в тестовой группе (4.6%) немного ниже, чем в контрольной (5.1%)."
   ]
  },
  {
   "cell_type": "markdown",
   "metadata": {},
   "source": [
    "Посчитаем метрики **ARPU** и **ARPPU** для наших выборок."
   ]
  },
  {
   "cell_type": "code",
   "execution_count": 47,
   "metadata": {},
   "outputs": [],
   "source": [
    "control_test_copy_A = control_test_copy.query('grp == \"A\"')\n",
    "control_test_copy_B = control_test_copy.query('grp == \"B\"')"
   ]
  },
  {
   "cell_type": "code",
   "execution_count": 48,
   "metadata": {},
   "outputs": [
    {
     "name": "stdout",
     "output_type": "stream",
     "text": [
      "ARPU для контрольной группы составил 47.44 руб.\n",
      "ARPU для целевой группы составил 57.86 руб.\n"
     ]
    }
   ],
   "source": [
    "print(f'ARPU для контрольной группы составил {round((control_test_copy_A.rev.mean()), 2)} руб.')\n",
    "print(f'ARPU для целевой группы составил {round((control_test_copy_B.rev.mean()), 2)} руб.')"
   ]
  },
  {
   "cell_type": "code",
   "execution_count": 49,
   "metadata": {},
   "outputs": [
    {
     "name": "stdout",
     "output_type": "stream",
     "text": [
      "ARPPU для контрольной группы составил 933.59 руб.\n",
      "ARPPU для целевой группы составил 1255.83 руб.\n"
     ]
    }
   ],
   "source": [
    "print(f'ARPPU для контрольной группы составил {round((control.rev.mean()), 2)} руб.')\n",
    "print(f'ARPPU для целевой группы составил {round((test.rev.mean()), 2)} руб.')"
   ]
  },
  {
   "cell_type": "code",
   "execution_count": 50,
   "metadata": {},
   "outputs": [],
   "source": [
    "# Занесем значения метрик в таблицу\n",
    "metrics = pd.DataFrame([[round((control_test_copy_A.rev.mean()), 2), round((control.rev.mean()), 2)],\n",
    "                       [round((control_test_copy_B.rev.mean()), 2), round((test.rev.mean()), 2)]],\n",
    "                       columns=['ARPU', 'ARPPU'], index=['A', 'B'])"
   ]
  },
  {
   "cell_type": "code",
   "execution_count": 51,
   "metadata": {},
   "outputs": [
    {
     "data": {
      "text/html": [
       "<div>\n",
       "<style scoped>\n",
       "    .dataframe tbody tr th:only-of-type {\n",
       "        vertical-align: middle;\n",
       "    }\n",
       "\n",
       "    .dataframe tbody tr th {\n",
       "        vertical-align: top;\n",
       "    }\n",
       "\n",
       "    .dataframe thead th {\n",
       "        text-align: right;\n",
       "    }\n",
       "</style>\n",
       "<table border=\"1\" class=\"dataframe\">\n",
       "  <thead>\n",
       "    <tr style=\"text-align: right;\">\n",
       "      <th></th>\n",
       "      <th>ARPU</th>\n",
       "      <th>ARPPU</th>\n",
       "    </tr>\n",
       "  </thead>\n",
       "  <tbody>\n",
       "    <tr>\n",
       "      <th>A</th>\n",
       "      <td>47.44</td>\n",
       "      <td>933.59</td>\n",
       "    </tr>\n",
       "    <tr>\n",
       "      <th>B</th>\n",
       "      <td>57.86</td>\n",
       "      <td>1255.83</td>\n",
       "    </tr>\n",
       "  </tbody>\n",
       "</table>\n",
       "</div>"
      ],
      "text/plain": [
       "    ARPU    ARPPU\n",
       "A  47.44   933.59\n",
       "B  57.86  1255.83"
      ]
     },
     "execution_count": 51,
     "metadata": {},
     "output_type": "execute_result"
    }
   ],
   "source": [
    "metrics"
   ]
  },
  {
   "cell_type": "code",
   "execution_count": 52,
   "metadata": {},
   "outputs": [
    {
     "data": {
      "image/png": "[encoded data removed]",
      "text/plain": [
       "<Figure size 864x360 with 2 Axes>"
      ]
     },
     "metadata": {},
     "output_type": "display_data"
    }
   ],
   "source": [
    "# Визуализируем наши расчеты\n",
    "fig, axes = plt.subplots(1, 2, figsize=(12, 5))\n",
    "\n",
    "sns.barplot(data=metrics,\n",
    "            x=metrics.index,\n",
    "            y='ARPU',\n",
    "            ax=axes[0],\n",
    "            palette=['lightcoral', 'powderblue'])\n",
    "axes[0].set_title('ARPU', size=14)\n",
    "axes[0].set_xlabel('Группы')\n",
    "axes[0].set_ylabel('Средний доход на пользователя, руб.')\n",
    "\n",
    "sns.barplot(data=metrics,\n",
    "            x=metrics.index,\n",
    "            y='ARPPU',\n",
    "            ax=axes[1],\n",
    "            palette=['lightcoral', 'powderblue'])\n",
    "axes[1].set_title('ARPPU', size=14)\n",
    "axes[1].set_xlabel('Группы')\n",
    "axes[1].set_ylabel('Средний доход на платящего пользователя, руб.')\n",
    "\n",
    "sns.despine(left=True, bottom=True)\n",
    "plt.tight_layout()\n",
    "plt.show()"
   ]
  },
  {
   "cell_type": "markdown",
   "metadata": {},
   "source": [
    "Отмечаем, что *метрики ARPU и ARPPU выше в целевой группе*. Разница особенно заметна в значениях ARPPU."
   ]
  },
  {
   "cell_type": "markdown",
   "metadata": {},
   "source": [
    "Как мы выяснили ранее, распределения в выборках по сумме платежей отличаются от нормального. В этих данных были пустые значения для случаев, когда пользователи не совершали оплату в дни эксперимента. Среднее, рассчитанное по этим данным, есть не что иное, как ARPPU, т.к. каждая строка данных соответствует уникальному пользователю. Использовать t-тест для сравнения средних значений (ARPPU) на данных в исходном виде мы не можем. Попробуем использовать *логарифмическую трансформацию*. Однако мы можем провести тест на логарифмах данных только по метрике ARPPU, т.к. данные для расчета ARPU будут включать нули (нельзя использовать логарифм)."
   ]
  },
  {
   "cell_type": "code",
   "execution_count": 53,
   "metadata": {},
   "outputs": [],
   "source": [
    "control_log = control.copy()\n",
    "control_log['rev'] = np.log(control_log['rev'])"
   ]
  },
  {
   "cell_type": "code",
   "execution_count": 54,
   "metadata": {},
   "outputs": [],
   "source": [
    "test_log = test.copy()\n",
    "test_log['rev'] = np.log(test_log['rev'])"
   ]
  },
  {
   "cell_type": "code",
   "execution_count": 55,
   "metadata": {},
   "outputs": [
    {
     "data": {
      "image/png": "[encoded data removed]",
      "text/plain": [
       "<Figure size 864x360 with 2 Axes>"
      ]
     },
     "metadata": {},
     "output_type": "display_data"
    }
   ],
   "source": [
    "fig, axes = plt.subplots(1, 2, figsize=(12, 5))\n",
    "\n",
    "sns.histplot(data=control_log,\n",
    "             x='rev',\n",
    "             ax=axes[0],\n",
    "             color='lightcoral')\n",
    "axes[0].set_title('Контрольная группа', size=14)\n",
    "axes[0].set_xlabel('Логарифм чека')\n",
    "axes[0].set_ylabel('Количество пользователей')\n",
    "\n",
    "sns.histplot(data=test_log,\n",
    "             x='rev',\n",
    "             ax=axes[1],\n",
    "             color='powderblue')\n",
    "axes[1].set_title('Целевая группа', size=14)\n",
    "axes[1].set_xlabel('Логарифм чека')\n",
    "axes[1].set_ylabel('Количество пользователей')\n",
    "\n",
    "sns.despine(left=True, bottom=True)\n",
    "plt.tight_layout()\n",
    "plt.show()"
   ]
  },
  {
   "cell_type": "markdown",
   "metadata": {},
   "source": [
    "Распределения после логарифмической трансформации данных все еще визуально не соответствуют нормальному. Проверим на нормальность с помощью теста Д'Агостино-Пирсона."
   ]
  },
  {
   "cell_type": "code",
   "execution_count": 56,
   "metadata": {},
   "outputs": [
    {
     "name": "stdout",
     "output_type": "stream",
     "text": [
      "Для контрольной группы: NormaltestResult(statistic=7.9915399191892345, pvalue=0.018393278875655582)\n",
      "Для целевой группы: NormaltestResult(statistic=86.64991674044852, pvalue=1.5283036528109365e-19)\n"
     ]
    }
   ],
   "source": [
    "print(f'Для контрольной группы: {st.normaltest(control_log.rev.dropna())}')\n",
    "print(f'Для целевой группы: {st.normaltest(test_log.rev.dropna())}')"
   ]
  },
  {
   "cell_type": "markdown",
   "metadata": {},
   "source": [
    "Тест на нормальность показал, что *после логарифмирования распределения все еще не соответствуют нормальному*.\\\n",
    "Проверим еще одно условие проведения t-теста: равенство дисперсий. Используем *тест Левена*. Проверяем гипотезу **H0**: дисперсии не различаются."
   ]
  },
  {
   "cell_type": "code",
   "execution_count": 57,
   "metadata": {},
   "outputs": [
    {
     "data": {
      "text/plain": [
       "LeveneResult(statistic=3.0558643506726035, pvalue=0.08123509393501775)"
      ]
     },
     "execution_count": 57,
     "metadata": {},
     "output_type": "execute_result"
    }
   ],
   "source": [
    "st.levene(control.rev.dropna(), test.rev.dropna())"
   ]
  },
  {
   "cell_type": "markdown",
   "metadata": {},
   "source": [
    "Нет оснований отвергнуть нулевую гипотезу => *дисперсии в двух выборках не различаются*."
   ]
  },
  {
   "cell_type": "code",
   "execution_count": 58,
   "metadata": {},
   "outputs": [
    {
     "data": {
      "text/plain": [
       "LeveneResult(statistic=0.10794168834088307, pvalue=0.7426765607631863)"
      ]
     },
     "execution_count": 58,
     "metadata": {},
     "output_type": "execute_result"
    }
   ],
   "source": [
    "st.levene(control_log.rev.dropna(), test_log.rev.dropna())"
   ]
  },
  {
   "cell_type": "markdown",
   "metadata": {},
   "source": [
    "После логарифмирования результаты теста также свидетельствуют о *равенстве дисперсий*."
   ]
  },
  {
   "cell_type": "markdown",
   "metadata": {},
   "source": [
    "Очевидно, что распределения всех пользователей, включая платящих и неплатящих, по сумме чека в контрольной и тестовой группах будут отличаться от нормального еще сильнее, т.к. данные состоят преимущественно из нулей. Посмотрим на эти распределения."
   ]
  },
  {
   "cell_type": "code",
   "execution_count": 59,
   "metadata": {},
   "outputs": [
    {
     "data": {
      "image/png": "[encoded data removed]",
      "text/plain": [
       "<Figure size 864x360 with 2 Axes>"
      ]
     },
     "metadata": {},
     "output_type": "display_data"
    }
   ],
   "source": [
    "fig, axes = plt.subplots(1, 2, figsize=(12, 5))\n",
    "\n",
    "sns.histplot(data=control_test_copy_A,\n",
    "             x='rev',\n",
    "             ax=axes[0],\n",
    "             color='lightcoral')\n",
    "axes[0].set_title('Контрольная группа', size=14)\n",
    "axes[0].set_xlabel('Сумма платежей, руб.')\n",
    "axes[0].set_ylabel('Количество пользователей')\n",
    "\n",
    "sns.histplot(data=control_test_copy_B,\n",
    "             x='rev',\n",
    "             ax=axes[1],\n",
    "             color='powderblue')\n",
    "axes[1].set_title('Целевая группа', size=14)\n",
    "axes[1].set_xlabel('Сумма платежей, руб.')\n",
    "axes[1].set_ylabel('Количество пользователей')\n",
    "\n",
    "sns.despine(left=True, bottom=True)\n",
    "plt.tight_layout()\n",
    "plt.show()"
   ]
  },
  {
   "cell_type": "code",
   "execution_count": 60,
   "metadata": {},
   "outputs": [
    {
     "data": {
      "text/html": [
       "<div>\n",
       "<style scoped>\n",
       "    .dataframe tbody tr th:only-of-type {\n",
       "        vertical-align: middle;\n",
       "    }\n",
       "\n",
       "    .dataframe tbody tr th {\n",
       "        vertical-align: top;\n",
       "    }\n",
       "\n",
       "    .dataframe thead th {\n",
       "        text-align: right;\n",
       "    }\n",
       "</style>\n",
       "<table border=\"1\" class=\"dataframe\">\n",
       "  <thead>\n",
       "    <tr style=\"text-align: right;\">\n",
       "      <th></th>\n",
       "      <th>W</th>\n",
       "      <th>pval</th>\n",
       "      <th>normal</th>\n",
       "    </tr>\n",
       "  </thead>\n",
       "  <tbody>\n",
       "    <tr>\n",
       "      <th>A</th>\n",
       "      <td>2235.003893</td>\n",
       "      <td>0.0</td>\n",
       "      <td>False</td>\n",
       "    </tr>\n",
       "    <tr>\n",
       "      <th>B</th>\n",
       "      <td>7799.583992</td>\n",
       "      <td>0.0</td>\n",
       "      <td>False</td>\n",
       "    </tr>\n",
       "  </tbody>\n",
       "</table>\n",
       "</div>"
      ],
      "text/plain": [
       "             W  pval  normal\n",
       "A  2235.003893   0.0   False\n",
       "B  7799.583992   0.0   False"
      ]
     },
     "execution_count": 60,
     "metadata": {},
     "output_type": "execute_result"
    }
   ],
   "source": [
    "pg.normality(data=control_test_copy, dv='rev', group='grp', method='normaltest')"
   ]
  },
  {
   "cell_type": "markdown",
   "metadata": {},
   "source": [
    "Т.к. данные не соответствуют нормальному распределению, *мы не можем провести t-тест Стьюдента* (он может дать некорректные результаты). Используем **метод бутстрапа (bootstrap)**."
   ]
  },
  {
   "cell_type": "markdown",
   "metadata": {},
   "source": [
    "**H0**: Разница между выборками случайна (разность средних = 0)."
   ]
  },
  {
   "cell_type": "code",
   "execution_count": 61,
   "metadata": {},
   "outputs": [],
   "source": [
    "# Рассчитаем доверительный интервал разницы ARPU для двух выборок\n",
    "mean_diff_ARPU = []\n",
    "\n",
    "for i in range(10000):\n",
    "    sample_data_control_ARPU = control_test_copy_A.rev.sample(frac=1, replace=True)\n",
    "    sample_mean_control_ARPU = sample_data_control_ARPU.mean()\n",
    "\n",
    "    sample_data_test_ARPU = control_test_copy_B.rev.sample(frac=1, replace=True)\n",
    "    sample_mean_test_ARPU = sample_data_test_ARPU.mean()\n",
    "\n",
    "    sample_mean_diff_ARPU = sample_mean_control_ARPU - sample_mean_test_ARPU\n",
    "    mean_diff_ARPU.append(sample_mean_diff_ARPU)"
   ]
  },
  {
   "cell_type": "code",
   "execution_count": 62,
   "metadata": {},
   "outputs": [],
   "source": [
    "mean_diff_ARPU = np.array(mean_diff_ARPU)"
   ]
  },
  {
   "cell_type": "code",
   "execution_count": 63,
   "metadata": {},
   "outputs": [],
   "source": [
    "min_ARPU = round(np.quantile(mean_diff_ARPU, 0.025), 1)\n",
    "max_ARPU = round(np.quantile(mean_diff_ARPU, 0.975), 1)"
   ]
  },
  {
   "cell_type": "code",
   "execution_count": 64,
   "metadata": {},
   "outputs": [],
   "source": [
    "# Рассчитаем доверительный интервал разницы ARPPU для двух выборок\n",
    "mean_diff_ARPPU = []\n",
    "\n",
    "for i in range(10000):\n",
    "    sample_data_control_ARPPU = control.rev.sample(frac=1, replace=True)\n",
    "    sample_mean_control_ARPPU = sample_data_control_ARPPU.mean()\n",
    "\n",
    "    sample_data_test_ARPPU = test.rev.sample(frac=1, replace=True)\n",
    "    sample_mean_test_ARPPU = sample_data_test_ARPPU.mean()\n",
    "\n",
    "    sample_mean_diff_ARPPU = sample_mean_control_ARPPU - sample_mean_test_ARPPU\n",
    "    mean_diff_ARPPU.append(sample_mean_diff_ARPPU)"
   ]
  },
  {
   "cell_type": "code",
   "execution_count": 65,
   "metadata": {},
   "outputs": [],
   "source": [
    "mean_diff_ARPPU = np.array(mean_diff_ARPPU)"
   ]
  },
  {
   "cell_type": "code",
   "execution_count": 66,
   "metadata": {},
   "outputs": [],
   "source": [
    "min_ARPPU = round(np.quantile(mean_diff_ARPPU, 0.025), 1)\n",
    "max_ARPPU = round(np.quantile(mean_diff_ARPPU, 0.975), 1)"
   ]
  },
  {
   "cell_type": "code",
   "execution_count": 67,
   "metadata": {},
   "outputs": [
    {
     "data": {
      "image/png": "[encoded data removed]",
      "text/plain": [
       "<Figure size 1080x432 with 2 Axes>"
      ]
     },
     "metadata": {},
     "output_type": "display_data"
    }
   ],
   "source": [
    "# Визуализируем результаты\n",
    "plt.figure(figsize=(15, 6))\n",
    "plt.subplot(1, 2, 1)\n",
    "plt.hist(x=mean_diff_ARPU,\n",
    "         bins=32,\n",
    "         color='cadetblue')\n",
    "plt.vlines(x=[min_ARPU, max_ARPU],\n",
    "           ymin=0,\n",
    "           ymax=300,\n",
    "           linestyle='--',\n",
    "           colors='red',\n",
    "           label=f'Доверительный интервал: {min_ARPU} ; {max_ARPU}')\n",
    "plt.title('ARPU бутстрап', size=16)\n",
    "plt.xlabel('Разница ARPU', size=12)\n",
    "plt.ylabel('Частота', size=12)\n",
    "plt.legend(loc=0)\n",
    "\n",
    "plt.subplot(1, 2, 2)\n",
    "plt.hist(x=mean_diff_ARPPU,\n",
    "         bins=32,\n",
    "         color='darkseagreen')\n",
    "plt.vlines(x=[min_ARPPU, max_ARPPU],\n",
    "           ymin=0,\n",
    "           ymax=300,\n",
    "           linestyle='--',\n",
    "           colors='red',\n",
    "           label=f'Доверительный интервал: {min_ARPPU} ; {max_ARPPU}')\n",
    "plt.title('ARPPU бутстрап', size=16)\n",
    "plt.xlabel('Разница ARPPU', size=12)\n",
    "plt.ylabel('Частота', size=12)\n",
    "plt.legend(loc=0)\n",
    "\n",
    "sns.despine(left=True, bottom=True)\n",
    "plt.tight_layout()\n",
    "plt.show()"
   ]
  },
  {
   "cell_type": "markdown",
   "metadata": {},
   "source": [
    "Доверительный интервал для разницы ARPU включает 0 -> **принимаем нулевую гипотезу об отсутствии различий в ARPU в контрольной и целевой группах**."
   ]
  },
  {
   "cell_type": "markdown",
   "metadata": {},
   "source": [
    "Доверительный интервал для разницы ARPPU не включает 0 -> **отвергаем нулевую гипотезу об отсутствии различий в ARPPU в контрольной и целевой группах**."
   ]
  },
  {
   "cell_type": "markdown",
   "metadata": {},
   "source": [
    "### Выводы\n",
    "\n",
    "Для оценки эффективности внедрения новой механики оплаты услуг на сайте образовательной платформы проведен A/B-тест. Данные для проведения тестирования включали информацию о принадлежности 74484 пользователей сайта к контрольной (14671, 19.7%) и тестовой (59813, 80.3%) группам, об активности этих пользователей и о сумме совершенных ими платежей на сайте в дни проведения эксперимента. Результаты теста оценивались на пользователях, которые зашли на платформу в дни проведения эксперимента: 8328 студентов, из которых 1535 (18.4%) принадлежат контрольной группе и 6793 (81.6%) - целевой. Для получения достоверных выводов по результатам экспериментов в дальнейшем необходимо пересмотреть систему сплитования, чтобы размер выборок был сопоставимым.\n",
    "\n",
    "Выбраны 3 наиболее чувствительные к результатам эксперимента метрики: *конверсия в оплату (CR)*, *средний доход на пользователя (ARPU)* и *средний доход на платящего пользователя (ARPPU)*. Проверялась следующая гипотеза: *Если внедрим новую механику оплаты, то пользователи сайта образовательной платформы перестанут стопориться на оплате услуг, вследствие чего CR, ARPU и ARPPU статистически значимо увеличатся*.\n",
    "\n",
    "Для проверки гипотезы относительно *CR* использовался критерий Хи-квадрат. Конверсия в оплату для контрольной группы cоставила 5.1%, а для целевой группы - 4.6%. *Тест не выявил значимых различий между CR в контрольной и целевой группах*.\n",
    "\n",
    "Метрики *ARPU* (для контрольной группы - 47.44 руб., для целевой - 57.86 руб.) и *ARPPU* (для контрольной группы - 933.59 руб., для целевой - 1255.83 руб.) оказались выше в тестовой группе. Данные о платежах по выборкам не соответствовали условиям проведения t-теста Стьюдента: распределения отличались от нормального, присутствовали аномально высокие значения. Метод бутстрапа показал *значимые различия ARPPU* и *незначимые различия ARPU* в контрольной и тестовой группах.\n",
    "\n",
    "Результаты проведенного эксперимента неоднозначны. A/B-тестирование не выявило значимых различий в CR и ARPU для контрольной и целевой групп, но **ARPPU оказался значимо выше в тестовой группе (на 34,5%)**. Напрашивается вывод о том, что новая механика оплаты услуг действительно упрощает и ускоряет процесс оплаты (особенно для тех, кто ранее уже совершал платежи). Эффект от внедрения новой механики оплаты, оцененный по метрике ARPPU, оказался достаточно сильным для принятия решения в пользу **запуска нововведений на всех пользователей**. Однако следует учесть, что изначально пользователи по группам распределены неравномерно, а это может сказаться на точности выводов. Также *необходимо разобраться в причинах появления в данных 149 пользователей, которые совершали платежи в дни проведения эксперимента, но не учитывались как активные*."
   ]
  },
  {
   "cell_type": "markdown",
   "metadata": {},
   "source": [
    "### Задание 2. SQL\n",
    "#### 2.1 Очень усердные ученики\n",
    "Задание звучит следующим образом:\n",
    "\n",
    "*Условие*. Образовательные курсы состоят из различных уроков, каждый из которых состоит из нескольких маленьких заданий. Каждое такое маленькое задание называется \"горошиной\". Назовём очень усердным учеником того пользователя, который хотя бы раз за текущий месяц правильно решил 20 горошин.\\\n",
    "*Задание*. Дана таблица **peas**:\n",
    "\n",
    "|Название атрибута\t|Тип атрибута\t|Смысловое значение                      |\n",
    "|-------------------|---------------|----------------------------------------|\n",
    "|st_id\t            |int\t        |ID ученика                              |\n",
    "|timest\t            |timestamp\t    |Время решения карточки                  |\n",
    "|correct        \t|bool\t        |Правильно ли решена горошина?           |\n",
    "|subject\t        |text\t        |Дисциплина, в которой находится горошина|\n",
    "\n",
    "Необходимо написать оптимальный запрос, который даст информацию о количестве очень усердных студентов.\\\n",
    "NB! Под *усердным* студентом мы понимаем студента, который **правильно решил 20 задач за текущий месяц**."
   ]
  },
  {
   "cell_type": "markdown",
   "metadata": {},
   "source": [
    "**Решение:**\n",
    "\n",
    "Таблица *peas* содержит данные только за два дня - 30 и 31 октября 2021 года (это дни проведения эксперимента, описанного в задании 2.2, по внедрению нового экрана оплаты). С учетом имеющихся данных посчитать фактическое количество усердных студентов возможно только за октябрь 2021 года. Однако мы можем написать запрос, который считал бы усердных студентов именно за *текущий* месяц с помощью CURRENT_DATE.\n",
    "Напишем два варианта запроса:\n",
    "- количество усердных студентов за октябрь 2021 года\n",
    "- количество усердных студентов за текущий месяц"
   ]
  },
  {
   "cell_type": "markdown",
   "metadata": {},
   "source": [
    "*Первый вариант решения*\n",
    "\n",
    "В первом случае мы не будем работать с датами, т.к. наши данные и так охватывают только октябрь 2021 года.\n",
    "Этот запрос выведет id **136 усердных студентов** в порядке убывания количества правильно решенных задач.\n",
    "```\n",
    "SELECT\n",
    "  st_id,\n",
    "  SUM(correct :: integer) AS successfully_completed_peas\n",
    "FROM\n",
    "  peas\n",
    "GROUP BY\n",
    "  st_id\n",
    "HAVING\n",
    "  SUM(correct :: integer) >= 20\n",
    "ORDER BY\n",
    "  successfully_completed_peas DESC;\n",
    "```\n",
    "Этот запрос даст информацию о **количестве усердных студентов**, что и требовалось в задаче. Здесь используется подзапрос в FROM.\n",
    "```\n",
    "SELECT\n",
    "  COUNT(st_id) AS number_of_diligent_students\n",
    "FROM\n",
    "  (\n",
    "    SELECT\n",
    "      st_id,\n",
    "      SUM(correct :: integer)\n",
    "    FROM\n",
    "      peas\n",
    "    GROUP BY\n",
    "      st_id\n",
    "    HAVING\n",
    "      SUM(correct :: integer) >= 20\n",
    "  ) AS diligent_students;\n",
    "```"
   ]
  },
  {
   "cell_type": "markdown",
   "metadata": {},
   "source": [
    "*Второй вариант решения*\n",
    "\n",
    "Здесь всё то же самое, только в подзапрос добавляем условие **WHERE**, проверяющее **соответствие даты в таблице peas текущему месяцу**.\n",
    "```\n",
    "SELECT\n",
    "  COUNT(st_id) AS number_of_diligent_students\n",
    "FROM\n",
    "  (\n",
    "    SELECT\n",
    "      st_id,\n",
    "      SUM(correct :: integer)\n",
    "    FROM\n",
    "      peas\n",
    "    WHERE\n",
    "      to_char(timest, 'MM/YYYY') = to_char(CURRENT_DATE, 'MM/YYYY')\n",
    "    GROUP BY\n",
    "      st_id\n",
    "    HAVING\n",
    "      SUM(correct :: integer) >= 20\n",
    "  ) AS diligent_students;\n",
    "```"
   ]
  },
  {
   "cell_type": "markdown",
   "metadata": {},
   "source": [
    "#### 2.2 Оптимизация воронки\n",
    "\n",
    "Задание звучит следующим образом:\n",
    "\n",
    "*Условие*. Образовательная платформа предлагает пройти студентам курсы по модели trial: студент может решить бесплатно лишь 30 горошин в день. Для неограниченного количества заданий в определенной дисциплине студенту необходимо приобрести полный доступ. Команда провела эксперимент, где был протестирован новый экран оплаты.\n",
    "\n",
    "*Задание*. Даны таблицы **peas** (в задании 2.1), **studs** и **final_project_check**. \\\n",
    "Таблица **studs**:\n",
    "\n",
    "|Название атрибута\t|Тип атрибута\t|Смысловое значение                   |\n",
    "|-------------------|---------------|-------------------------------------|\n",
    "|st_id\t            |int\t        |ID ученика                           |\n",
    "|test_grp           |text           |Метка ученика в данном эксперименте  |\n",
    "\n",
    "Таблица **final_project_check**:\n",
    "\n",
    "|Название атрибута\t|Тип атрибута\t|Смысловое значение                     |\n",
    "|-------------------|---------------|---------------------------------------|\n",
    "|st_id\t            |int\t        |ID ученика                             |\n",
    "|sale_time          |timestamp      |Время покупки                          |\n",
    "|money\t            |int\t        |Цена, по которой приобрели данный курс |\n",
    "|subject\t        |text \t        |Дисциплина                             |\n",
    "\n",
    "\n",
    "Необходимо в одном запросе выгрузить следующую информацию о группах пользователей:\n",
    "- ARPU \n",
    "- ARPAU \n",
    "- CR в покупку \n",
    "- СR активного пользователя в покупку \n",
    "- CR пользователя из активности по математике (subject = ’math’) в покупку курса по математике\n",
    "\n",
    "ARPU считается относительно всех пользователей, попавших в группы.\\\n",
    "**Активным** считается пользователь, *за все время решивший **больше 10** задач правильно в любых дисциплинах*.\\\n",
    "**Активным по математике** считается пользователь, *за все время решивший **2 или больше** задач правильно по математике*."
   ]
  },
  {
   "cell_type": "markdown",
   "metadata": {},
   "source": [
    "**Решение:**\n",
    "\n",
    "Таблица **peas** содержится информация о **308** уникальных пользователях, которые решали горошины в дни проведения эксперимента (30 и 31 октября 2021 года).\\\n",
    "Таблица **studs** содержит информацию о принадлежности **600** уникальных пользователей к контрольной (test_grp = 'control') и тестовой (test_grp = 'pilot') группам. Студенты распределились по группам следующим образом: 305 студентов в контрольной и 295 - в тестовой группах.\\\n",
    "Таблица **final_project_check** содержит информацию о **47** уникальных пользователях, которые совершали покупки курсов в дни проведения эксперимента (30 и 31 октября 2021 года).\n",
    "\n",
    "Между таблицами peas и final_project_check реализована связь \"многие ко многим\", что при их объединении будет вызывать дублирование данных. Чтобы собрать итоговую таблицу для расчета метрик, включающую всю необходимую информацию, необходимо предварительно сгруппировать данные по пользователям.\n",
    "Отметим, что в таблице peas нет данных по двум студентам, которые есть в final_project_check. Эти студенты оплачивали курсы, но не проходили уроки в дни проведения эксперимента."
   ]
  },
  {
   "cell_type": "markdown",
   "metadata": {},
   "source": [
    "Для начала преобразуем таблицу peas - сгруппируем данные по студентам и посчитаем количество *правильно* решенных задач по всем дисциплинам и отдельно по математике (данные для идентификации студентов как активных и активных по математике). Затем присвоим студентам маркеры активности (булевая переменная) по всем дисциплинам (active_stud) и по математике (active_stud_math).\n",
    "```\n",
    "SELECT\n",
    "  st_id,\n",
    "  CASE\n",
    "    WHEN SUM(all_correct) > 10 THEN 1\n",
    "    ELSE 0\n",
    "  END AS active_stud,\n",
    "  CASE\n",
    "    WHEN SUM(math_correct) >= 2 THEN 1\n",
    "    ELSE 0\n",
    "  END AS active_stud_math\n",
    "FROM\n",
    "  (\n",
    "    SELECT\n",
    "      st_id,\n",
    "      SUM(correct :: int) AS all_correct,\n",
    "      CASE\n",
    "        WHEN subject = 'Math' THEN sum(correct :: int)\n",
    "        ELSE 0\n",
    "      END AS math_correct\n",
    "    FROM\n",
    "      peas\n",
    "    GROUP BY\n",
    "      st_id,\n",
    "      subject\n",
    "  ) AS p\n",
    "GROUP BY\n",
    "  st_id;\n",
    "```"
   ]
  },
  {
   "cell_type": "markdown",
   "metadata": {},
   "source": [
    "Этот запрос уже получается длинным, поэтому используем CTE (cte_p) для улучшения читаемости."
   ]
  },
  {
   "cell_type": "markdown",
   "metadata": {},
   "source": [
    "Теперь необходимо сгруппировать таблицу final_project_check по студентам, просуммировать их платежи по всем дисциплинам и отдельно по математике. Затем объединим таблицу studs с модифицированной таблицей final_project_check с помощью LEFT JOIN (нужно оставить информацию по всем пользователям, попавшим в группы).\n",
    "```\n",
    "SELECT\n",
    "  s.st_id,\n",
    "  s.test_grp,\n",
    "  f.all_money,\n",
    "  f.math_money\n",
    "FROM\n",
    "  studs s\n",
    "  LEFT JOIN (\n",
    "    SELECT\n",
    "      st_id,\n",
    "      SUM(all_money) :: int AS all_money,\n",
    "      SUM(math_money) :: int AS math_money\n",
    "    FROM\n",
    "      (\n",
    "        SELECT\n",
    "          st_id,\n",
    "          SUM(money) AS all_money,\n",
    "          CASE\n",
    "            WHEN subject = 'Math' THEN SUM(money)\n",
    "            ELSE null\n",
    "          END AS math_money\n",
    "        FROM\n",
    "          final_project_check\n",
    "        GROUP BY\n",
    "          st_id,\n",
    "          subject\n",
    "      ) AS f_money\n",
    "    GROUP BY\n",
    "      st_id\n",
    "  ) f ON s.st_id = f.st_id;\n",
    "```"
   ]
  },
  {
   "cell_type": "markdown",
   "metadata": {},
   "source": [
    "Объединяем все столбцы в единую таблицу (cte_sfp).\n",
    "```\n",
    "WITH cte_p AS (\n",
    "  SELECT\n",
    "    st_id,\n",
    "    CASE\n",
    "      WHEN SUM(all_correct) > 10 THEN 1\n",
    "      ELSE 0\n",
    "    END AS active_stud,\n",
    "    CASE\n",
    "      WHEN SUM(math_correct) >= 2 THEN 1\n",
    "      ELSE 0\n",
    "    END AS active_stud_math\n",
    "  FROM\n",
    "    (\n",
    "      SELECT\n",
    "        st_id,\n",
    "        SUM(correct :: int) AS all_correct,\n",
    "        CASE\n",
    "          WHEN subject = 'Math' THEN sum(correct :: int)\n",
    "          ELSE 0\n",
    "        END AS math_correct\n",
    "      FROM\n",
    "        peas\n",
    "      GROUP BY\n",
    "        st_id,\n",
    "        subject\n",
    "    ) AS p\n",
    "  GROUP BY\n",
    "    st_id\n",
    "),\n",
    "cte_sfp AS (\n",
    "  SELECT\n",
    "    s.st_id,\n",
    "    s.test_grp,\n",
    "    f.all_money,\n",
    "    f.math_money,\n",
    "    p.active_stud,\n",
    "    p.active_stud_math\n",
    "  FROM\n",
    "    studs s\n",
    "    LEFT JOIN (\n",
    "      SELECT\n",
    "        st_id,\n",
    "        SUM(all_money) :: int AS all_money,\n",
    "        SUM(math_money) :: int AS math_money\n",
    "      FROM\n",
    "        (\n",
    "          SELECT\n",
    "            st_id,\n",
    "            SUM(money) AS all_money,\n",
    "            CASE\n",
    "              WHEN subject = 'Math' THEN SUM(money)\n",
    "              ELSE null\n",
    "            END AS math_money\n",
    "          FROM\n",
    "            final_project_check\n",
    "          GROUP BY\n",
    "            st_id,\n",
    "            subject\n",
    "        ) AS f_money\n",
    "      GROUP BY\n",
    "        st_id\n",
    "    ) f ON s.st_id = f.st_id\n",
    "    LEFT JOIN cte_p p ON s.st_id = p.st_id\n",
    ")\n",
    "\n",
    "SELECT *\n",
    "FROM cte_sfp;\n",
    "```"
   ]
  },
  {
   "cell_type": "markdown",
   "metadata": {},
   "source": [
    "Теперь для выгрузки метрик можем работать с таблицей cte_sfp. Рассчитываем метрики с помощью вспомогательной таблицы (подзапрос в FROM). Затем группируем по test_grp.\n",
    "\n",
    "**ИТОГОВЫЙ ЗАПРОС**\n",
    "```\n",
    "WITH cte_p AS (\n",
    "  SELECT\n",
    "    st_id,\n",
    "    CASE\n",
    "      WHEN SUM(all_correct) > 10 THEN 1\n",
    "      ELSE 0\n",
    "    END AS active_stud,\n",
    "    CASE\n",
    "      WHEN SUM(math_correct) >= 2 THEN 1\n",
    "      ELSE 0\n",
    "    END AS active_stud_math\n",
    "  FROM\n",
    "    (\n",
    "      SELECT\n",
    "        st_id,\n",
    "        SUM(correct :: int) AS all_correct,\n",
    "        CASE\n",
    "          WHEN subject = 'Math' THEN sum(correct :: int)\n",
    "          ELSE 0\n",
    "        END AS math_correct\n",
    "      FROM\n",
    "        peas\n",
    "      GROUP BY\n",
    "        st_id,\n",
    "        subject\n",
    "    ) AS p\n",
    "  GROUP BY\n",
    "    st_id\n",
    "),\n",
    "cte_sfp AS (\n",
    "  SELECT\n",
    "    s.st_id,\n",
    "    s.test_grp,\n",
    "    f.all_money,\n",
    "    f.math_money,\n",
    "    p.active_stud,\n",
    "    p.active_stud_math\n",
    "  FROM\n",
    "    studs s\n",
    "    LEFT JOIN (\n",
    "      SELECT\n",
    "        st_id,\n",
    "        SUM(all_money) :: int AS all_money,\n",
    "        SUM(math_money) :: int AS math_money\n",
    "      FROM\n",
    "        (\n",
    "          SELECT\n",
    "            st_id,\n",
    "            SUM(money) AS all_money,\n",
    "            CASE\n",
    "              WHEN subject = 'Math' THEN SUM(money)\n",
    "              ELSE null\n",
    "            END AS math_money\n",
    "          FROM\n",
    "            final_project_check\n",
    "          GROUP BY\n",
    "            st_id,\n",
    "            subject\n",
    "        ) AS f_money\n",
    "      GROUP BY\n",
    "        st_id\n",
    "    ) f ON s.st_id = f.st_id\n",
    "    LEFT JOIN cte_p p ON s.st_id = p.st_id\n",
    ")\n",
    "SELECT\n",
    "  test_grp,\n",
    "  SUM(revenue) / SUM(group_size) AS arpu,\n",
    "  SUM(revenue_active_studs) / SUM(active_studs) AS arpau,\n",
    "  SUM(paying_studs) / SUM(group_size) * 100 AS CR,\n",
    "  SUM(active_paying) / SUM(active_studs) * 100 AS CR_active,\n",
    "  SUM(math_active_paying) / SUM(math_active_studs) * 100 AS CR_math_active\n",
    "FROM\n",
    "  (\n",
    "    SELECT\n",
    "      test_grp,\n",
    "      COUNT(st_id) AS group_size,\n",
    "      SUM(all_money) AS revenue,\n",
    "      SUM(active_stud) AS active_studs,\n",
    "      CASE\n",
    "        WHEN active_stud = 1 THEN SUM(all_money)\n",
    "        ELSE NULL\n",
    "      END AS revenue_active_studs,\n",
    "      COUNT(all_money) AS paying_studs,\n",
    "      CASE\n",
    "        WHEN active_stud = 1\n",
    "        AND all_money IS NOT NULL THEN SUM(active_stud)\n",
    "        ELSE NULL\n",
    "      END AS active_paying,\n",
    "      SUM(active_stud_math) AS math_active_studs,\n",
    "      CASE\n",
    "        WHEN active_stud_math = 1\n",
    "        AND math_money IS NOT NULL THEN SUM(active_stud_math)\n",
    "        ELSE NULL\n",
    "      END AS math_active_paying\n",
    "    FROM\n",
    "      cte_sfp\n",
    "    GROUP BY\n",
    "      test_grp,\n",
    "      active_stud,\n",
    "      all_money,\n",
    "      active_stud_math,\n",
    "      math_money\n",
    "  ) AS auxiliary_table\n",
    "GROUP BY\n",
    "  test_grp\n",
    "ORDER BY\n",
    "  test_grp;\n",
    "```"
   ]
  },
  {
   "cell_type": "markdown",
   "metadata": {},
   "source": [
    "### Задание 3. Python\n",
    "\n",
    "Необходимо реализовать:\n",
    "- функцию, которая будет автоматически подгружать информацию из дополнительного файла groups_add.csv (заголовки могут отличаться) и на основании дополнительных параметров пересчитывать метрики;\n",
    "- функцию, которая будет строить графики по получаемым метрикам."
   ]
  },
  {
   "cell_type": "code",
   "execution_count": 68,
   "metadata": {},
   "outputs": [],
   "source": [
    "# Считаем данные \"с нуля\"\n",
    "groups = pd.read_csv('groups.csv', sep=';')\n",
    "group_add = pd.read_csv('group_add.csv')\n",
    "active_studs = pd.read_csv('active_studs.csv')\n",
    "checks = pd.read_csv('checks.csv', sep=';')"
   ]
  },
  {
   "cell_type": "markdown",
   "metadata": {},
   "source": [
    "Напишем функцию, которая пересчитает метрики и занесет их в единую таблицу."
   ]
  },
  {
   "cell_type": "code",
   "execution_count": 69,
   "metadata": {},
   "outputs": [],
   "source": [
    "# Функция add_data на вход принимает файлы, которые мы считали\n",
    "def add_data(groups_df, group_add_df, active_studs_df, checks_df):\n",
    "\n",
    "    '''\n",
    "    Переименуем заголовки в groups_df и group_add_df, \n",
    "    чтобы они были одинаковыми и связывались с active_studs_df и checks_df по student_id\n",
    "    '''\n",
    "    groups_df = groups_df.rename(columns={groups_df.columns[0]: 'student_id', groups_df.columns[1]: 'grp'})\n",
    "    group_add_df = group_add_df.rename(columns={group_add_df.columns[0]: 'student_id',\n",
    "                                                group_add_df.columns[1]: 'grp'})\n",
    "\n",
    "    # Добавим в groups_df новые строки из group_add_df\n",
    "    groups_df = pd.concat([groups_df, group_add_df], ignore_index=True)\n",
    "\n",
    "    # Объединим датафреймы groups_df и active_studs_df\n",
    "    final_groups_active = groups_df.merge(active_studs_df, on='student_id', how='inner')\n",
    "\n",
    "    # Объединим датафреймы final_groups_active и checks_df для получения информации о платежах\n",
    "    final_control_test = final_groups_active.merge(checks_df, on='student_id', how='left')\n",
    "\n",
    "    # Посчитаем метрики CR, ARPU и ARPPU\n",
    "    # Для удобства создаем отдельные датафреймы для контрольной и целевой групп\n",
    "    final_control_test_a = final_control_test[final_control_test['grp'] == 'A']\n",
    "    final_control_test_b = final_control_test[final_control_test['grp'] == 'B']\n",
    "\n",
    "    '''\n",
    "    Считаем по группам: \n",
    "    - количество участвовавших в эксперименте пользователей всего\n",
    "    - количество платящих пользователей \n",
    "    - сумму платежей\n",
    "    Заносим результаты вычислений в словарь metrics_dict\n",
    "    '''\n",
    "    metrics_dict = {\n",
    "        'A': {\n",
    "            'num_of_users': int(final_control_test_a.shape[0]),\n",
    "            'num_of_paying_users': int(final_control_test_a.rev.count()),\n",
    "            'revenue': int(final_control_test_a.rev.sum())\n",
    "        },\n",
    "        'B': {\n",
    "            'num_of_users': int(final_control_test_b.shape[0]),\n",
    "            'num_of_paying_users': int(final_control_test_b.rev.count()),\n",
    "            'revenue': int(final_control_test_b.rev.sum())\n",
    "        }\n",
    "    }\n",
    "\n",
    "    # Собираем полученные показатели в единый датафрейм из словаря\n",
    "    local_metrics = pd.DataFrame.from_dict(metrics_dict, orient='index')\n",
    "\n",
    "    # Считаем CR, ARPU, ARPPU, добавляем столбцы с метриками в local_metrics\n",
    "    local_metrics['Конверсия в оплату (CR), %'] = \\\n",
    "        round((local_metrics.num_of_paying_users / local_metrics.num_of_users * 100), 1)\n",
    "    local_metrics['Средний доход на пользователя (ARPU), руб.'] = \\\n",
    "        round((local_metrics.revenue / local_metrics.num_of_users), 2)\n",
    "    local_metrics['Средний доход на платящего пользователя (ARPPU), руб.'] = \\\n",
    "        round((local_metrics.revenue / local_metrics.num_of_paying_users), 2)\n",
    "\n",
    "    # Изменим названия столбцов\n",
    "    local_metrics = local_metrics.rename(columns={'num_of_users': 'Кол-во пользователей, чел.',\n",
    "                                                  'num_of_paying_users': 'Кол-во платящих пользователей, чел.',\n",
    "                                                  'revenue': 'Сумма платежей, руб.'})\n",
    "\n",
    "    return local_metrics"
   ]
  },
  {
   "cell_type": "code",
   "execution_count": 70,
   "metadata": {},
   "outputs": [
    {
     "data": {
      "text/html": [
       "<div>\n",
       "<style scoped>\n",
       "    .dataframe tbody tr th:only-of-type {\n",
       "        vertical-align: middle;\n",
       "    }\n",
       "\n",
       "    .dataframe tbody tr th {\n",
       "        vertical-align: top;\n",
       "    }\n",
       "\n",
       "    .dataframe thead th {\n",
       "        text-align: right;\n",
       "    }\n",
       "</style>\n",
       "<table border=\"1\" class=\"dataframe\">\n",
       "  <thead>\n",
       "    <tr style=\"text-align: right;\">\n",
       "      <th></th>\n",
       "      <th>Кол-во пользователей, чел.</th>\n",
       "      <th>Кол-во платящих пользователей, чел.</th>\n",
       "      <th>Сумма платежей, руб.</th>\n",
       "      <th>Конверсия в оплату (CR), %</th>\n",
       "      <th>Средний доход на пользователя (ARPU), руб.</th>\n",
       "      <th>Средний доход на платящего пользователя (ARPPU), руб.</th>\n",
       "    </tr>\n",
       "  </thead>\n",
       "  <tbody>\n",
       "    <tr>\n",
       "      <th>A</th>\n",
       "      <td>1538</td>\n",
       "      <td>78</td>\n",
       "      <td>72820</td>\n",
       "      <td>5.1</td>\n",
       "      <td>47.35</td>\n",
       "      <td>933.59</td>\n",
       "    </tr>\n",
       "    <tr>\n",
       "      <th>B</th>\n",
       "      <td>6803</td>\n",
       "      <td>314</td>\n",
       "      <td>394974</td>\n",
       "      <td>4.6</td>\n",
       "      <td>58.06</td>\n",
       "      <td>1257.88</td>\n",
       "    </tr>\n",
       "  </tbody>\n",
       "</table>\n",
       "</div>"
      ],
      "text/plain": [
       "   Кол-во пользователей, чел.  Кол-во платящих пользователей, чел.  \\\n",
       "A                        1538                                   78   \n",
       "B                        6803                                  314   \n",
       "\n",
       "   Сумма платежей, руб.  Конверсия в оплату (CR), %  \\\n",
       "A                 72820                         5.1   \n",
       "B                394974                         4.6   \n",
       "\n",
       "   Средний доход на пользователя (ARPU), руб.  \\\n",
       "A                                       47.35   \n",
       "B                                       58.06   \n",
       "\n",
       "   Средний доход на платящего пользователя (ARPPU), руб.  \n",
       "A                                             933.59      \n",
       "B                                            1257.88      "
      ]
     },
     "execution_count": 70,
     "metadata": {},
     "output_type": "execute_result"
    }
   ],
   "source": [
    "# Проверим вывод функции\n",
    "metrics_df = add_data(groups, group_add, active_studs, checks)\n",
    "metrics_df"
   ]
  },
  {
   "cell_type": "code",
   "execution_count": 71,
   "metadata": {},
   "outputs": [
    {
     "data": {
      "text/html": [
       "<style  type=\"text/css\" >\n",
       "#T_fcda38d6_9f41_11f0_bdbb_96000040dfb6row0_col3,#T_fcda38d6_9f41_11f0_bdbb_96000040dfb6row1_col4,#T_fcda38d6_9f41_11f0_bdbb_96000040dfb6row1_col5{\n",
       "            background-color:  darkseagreen;\n",
       "        }</style><table id=\"T_fcda38d6_9f41_11f0_bdbb_96000040dfb6\" ><thead>    <tr>        <th class=\"blank level0\" ></th>        <th class=\"col_heading level0 col0\" >Кол-во пользователей, чел.</th>        <th class=\"col_heading level0 col1\" >Кол-во платящих пользователей, чел.</th>        <th class=\"col_heading level0 col2\" >Сумма платежей, руб.</th>        <th class=\"col_heading level0 col3\" >Конверсия в оплату (CR), %</th>        <th class=\"col_heading level0 col4\" >Средний доход на пользователя (ARPU), руб.</th>        <th class=\"col_heading level0 col5\" >Средний доход на платящего пользователя (ARPPU), руб.</th>    </tr></thead><tbody>\n",
       "                <tr>\n",
       "                        <th id=\"T_fcda38d6_9f41_11f0_bdbb_96000040dfb6level0_row0\" class=\"row_heading level0 row0\" >A</th>\n",
       "                        <td id=\"T_fcda38d6_9f41_11f0_bdbb_96000040dfb6row0_col0\" class=\"data row0 col0\" >1538</td>\n",
       "                        <td id=\"T_fcda38d6_9f41_11f0_bdbb_96000040dfb6row0_col1\" class=\"data row0 col1\" >78</td>\n",
       "                        <td id=\"T_fcda38d6_9f41_11f0_bdbb_96000040dfb6row0_col2\" class=\"data row0 col2\" >72820</td>\n",
       "                        <td id=\"T_fcda38d6_9f41_11f0_bdbb_96000040dfb6row0_col3\" class=\"data row0 col3\" >5.1</td>\n",
       "                        <td id=\"T_fcda38d6_9f41_11f0_bdbb_96000040dfb6row0_col4\" class=\"data row0 col4\" >47.35</td>\n",
       "                        <td id=\"T_fcda38d6_9f41_11f0_bdbb_96000040dfb6row0_col5\" class=\"data row0 col5\" >933.59</td>\n",
       "            </tr>\n",
       "            <tr>\n",
       "                        <th id=\"T_fcda38d6_9f41_11f0_bdbb_96000040dfb6level0_row1\" class=\"row_heading level0 row1\" >B</th>\n",
       "                        <td id=\"T_fcda38d6_9f41_11f0_bdbb_96000040dfb6row1_col0\" class=\"data row1 col0\" >6803</td>\n",
       "                        <td id=\"T_fcda38d6_9f41_11f0_bdbb_96000040dfb6row1_col1\" class=\"data row1 col1\" >314</td>\n",
       "                        <td id=\"T_fcda38d6_9f41_11f0_bdbb_96000040dfb6row1_col2\" class=\"data row1 col2\" >394974</td>\n",
       "                        <td id=\"T_fcda38d6_9f41_11f0_bdbb_96000040dfb6row1_col3\" class=\"data row1 col3\" >4.6</td>\n",
       "                        <td id=\"T_fcda38d6_9f41_11f0_bdbb_96000040dfb6row1_col4\" class=\"data row1 col4\" >58.06</td>\n",
       "                        <td id=\"T_fcda38d6_9f41_11f0_bdbb_96000040dfb6row1_col5\" class=\"data row1 col5\" >1257.88</td>\n",
       "            </tr>\n",
       "    </tbody></table>"
      ],
      "text/plain": [
       "<pandas.io.formats.style.Styler at 0x7efec0d48518>"
      ]
     },
     "execution_count": 71,
     "metadata": {},
     "output_type": "execute_result"
    }
   ],
   "source": [
    "# Раскрасим максимальные значения по столбцам с метриками\n",
    "add_data(groups, group_add, active_studs, checks) \\\n",
    "    .style \\\n",
    "    .format('{:.1f}', subset=['Конверсия в оплату (CR), %']) \\\n",
    "    .format('{:.2f}', subset=['Средний доход на пользователя (ARPU), руб.',\n",
    "                              'Средний доход на платящего пользователя (ARPPU), руб.']) \\\n",
    "    .highlight_max(color='darkseagreen', subset=['Конверсия в оплату (CR), %',\n",
    "                                                 'Средний доход на пользователя (ARPU), руб.',\n",
    "                                                 'Средний доход на платящего пользователя (ARPPU), руб.'])"
   ]
  },
  {
   "cell_type": "markdown",
   "metadata": {},
   "source": [
    "Напишем функцию, которая визуализирует наши метрики."
   ]
  },
  {
   "cell_type": "code",
   "execution_count": 72,
   "metadata": {},
   "outputs": [],
   "source": [
    "# Функция show_diagram на вход принимает таблицу с метриками\n",
    "def show_diagram(metrics_table):\n",
    "    fig, axes = plt.subplots(1, 3, figsize=(14, 6))\n",
    "\n",
    "    sns.barplot(data=metrics_table,\n",
    "                x=metrics_table.index,\n",
    "                y='Конверсия в оплату (CR), %',\n",
    "                ax=axes[0],\n",
    "                palette=['lightcoral', 'powderblue'])\n",
    "    axes[0].set_ylim(0, 50)\n",
    "    axes[0].set_title('CR', size=14, color='black', fontweight='bold')\n",
    "    axes[0].set_xlabel('Группы', color='black', size=12)\n",
    "    axes[0].set_ylabel('Конверсия в оплату, %', color='black', size=12)\n",
    "    axes[0].tick_params(axis='x', colors='black')\n",
    "    axes[0].tick_params(axis='y', colors='black')\n",
    "    axes[0].text(x=-0.1, y=metrics_table.loc['A', 'Конверсия в оплату (CR), %'],\n",
    "                 s=metrics_table.loc['A', 'Конверсия в оплату (CR), %'],\n",
    "                 size=12, color='black')\n",
    "    axes[0].text(x=0.9, y=metrics_table.loc['B', 'Конверсия в оплату (CR), %'],\n",
    "                 s=metrics_table.loc['B', 'Конверсия в оплату (CR), %'],\n",
    "                 size=12, color='black')\n",
    "\n",
    "    sns.barplot(data=metrics_table,\n",
    "                x=metrics_table.index,\n",
    "                y='Средний доход на пользователя (ARPU), руб.',\n",
    "                ax=axes[1],\n",
    "                palette=['lightcoral', 'powderblue'])\n",
    "    axes[1].set_title('ARPU', size=14, color='black', fontweight='bold')\n",
    "    axes[1].set_xlabel('Группы', color='black', size=12)\n",
    "    axes[1].set_ylabel('Средний доход на пользователя, руб.', color='black', size=12)\n",
    "    axes[1].tick_params(axis='x', colors='black')\n",
    "    axes[1].tick_params(axis='y', colors='black')\n",
    "    axes[1].text(x=-0.1, y=metrics_table.loc['A', 'Средний доход на пользователя (ARPU), руб.'],\n",
    "                 s=metrics_table.loc['A', 'Средний доход на пользователя (ARPU), руб.'],\n",
    "                 size=12, color='black')\n",
    "    axes[1].text(x=0.9, y=metrics_table.loc['B', 'Средний доход на пользователя (ARPU), руб.'],\n",
    "                 s=metrics_table.loc['B', 'Средний доход на пользователя (ARPU), руб.'],\n",
    "                 size=12, color='black')\n",
    "\n",
    "    sns.barplot(data=metrics_table,\n",
    "                x=metrics_table.index,\n",
    "                y='Средний доход на платящего пользователя (ARPPU), руб.',\n",
    "                ax=axes[2],\n",
    "                palette=['lightcoral', 'powderblue'])\n",
    "    axes[2].set_title('ARPPU', size=14, color='black', fontweight='bold')\n",
    "    axes[2].set_xlabel('Группы', color='black', size=12)\n",
    "    axes[2].set_ylabel('Средний доход на платящего пользователя, руб.', color='black', size=12)\n",
    "    axes[2].tick_params(axis='x', colors='black')\n",
    "    axes[2].tick_params(axis='y', colors='black')\n",
    "    axes[2].text(x=-0.15, y=metrics_table.loc['A', 'Средний доход на платящего пользователя (ARPPU), руб.'],\n",
    "                 s=metrics_table.loc['A', 'Средний доход на платящего пользователя (ARPPU), руб.'],\n",
    "                 size=12, color='black')\n",
    "    axes[2].text(x=0.8, y=metrics_table.loc['B', 'Средний доход на платящего пользователя (ARPPU), руб.'],\n",
    "                 s=metrics_table.loc['B', 'Средний доход на платящего пользователя (ARPPU), руб.'],\n",
    "                 size=12, color='black')\n",
    "\n",
    "    sns.despine(left=True, bottom=True)\n",
    "    plt.tight_layout()\n",
    "    plt.show()"
   ]
  },
  {
   "cell_type": "code",
   "execution_count": 73,
   "metadata": {},
   "outputs": [
    {
     "data": {
      "image/png": "[encoded data removed]",
      "text/plain": [
       "<Figure size 1008x432 with 3 Axes>"
      ]
     },
     "metadata": {},
     "output_type": "display_data"
    }
   ],
   "source": [
    "# Проверим вывод функции\n",
    "show_diagram(metrics_df)"
   ]
  }
 ],
 "metadata": {
  "kernelspec": {
   "display_name": "Python 3",
   "language": "python",
   "name": "python3"
  },
  "language_info": {
   "codemirror_mode": {
    "name": "ipython",
    "version": 3
   },
   "file_extension": ".py",
   "mimetype": "text/x-python",
   "name": "python",
   "nbconvert_exporter": "python",
   "pygments_lexer": "ipython3",
   "version": "3.7.3"
  }
 },
 "nbformat": 4,
 "nbformat_minor": 4
}
